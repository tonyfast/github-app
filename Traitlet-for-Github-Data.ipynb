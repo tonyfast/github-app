{
 "cells": [
  {
   "cell_type": "code",
   "execution_count": 134,
   "metadata": {
    "collapsed": false
   },
   "outputs": [],
   "source": [
    "import IPython, ipywidgets, traitlets, requests, pandas, jinja2\n",
    "from bokeh.sampledata import iris\n",
    "%reload_ext yamlmagic\n",
    "%reload_ext autoreload\n",
    "%autoreload 2"
   ]
  },
  {
   "cell_type": "code",
   "execution_count": 145,
   "metadata": {
    "collapsed": false
   },
   "outputs": [],
   "source": [
    "access_token = ipywidgets.Text('asdfasdf')\n",
    "access_token"
   ]
  },
  {
   "cell_type": "code",
   "execution_count": 143,
   "metadata": {
    "collapsed": false
   },
   "outputs": [],
   "source": [
    "class Projects( traitlets.HasTraits ):\n",
    "    current = traitlets.List([])\n",
    "    def __init__( self, *args, **kwargs ):\n",
    "        self.catalog = {}   \n",
    "        self.session = requests.Session()\n",
    "        \n",
    "    @traitlets.observe('current')\n",
    "    def _update_projects(self, change, *args, **kwargs):\n",
    "        for project_or_url in change['new']:\n",
    "            self._github_api( project_or_url )\n",
    "                \n",
    "    def _github_api( self, project_or_url, params = {} ):\n",
    "        if not project_or_url.startswith('http'):\n",
    "            user, repo = project_or_url.split('/')\n",
    "            url = None\n",
    "        else:\n",
    "            url = project_or_url\n",
    "        if not url:\n",
    "            url = 'https://api.github.com/repos/' + user + '/' + repo\n",
    "                \n",
    "        request = requests.Request('GET', url=url, params=params.copy(), headers={'User-Agent': 'tonyfast'} )\n",
    "        url = request.prepare().url\n",
    "        if not url in self.catalog.keys():            \n",
    "            request.params['access_token'] = globals()['access_token'].value\n",
    "            self.catalog[url] = {\n",
    "                'requests': self.session.send(request.prepare()),\n",
    "                'time': str(pandas.datetime.now()),\n",
    "                'params': params.copy(),\n",
    "            } \n",
    "        return url\n",
    "    \n",
    "    def show( self ):\n",
    "        pass\n",
    "    \n",
    "    def more( self, url, params = {}, paginate=False ):\n",
    "        if paginate:\n",
    "            last_page = [v['params']['page'] for k, v in self.catalog.items() if k.startswith(url) and 'page' in v['params']]\n",
    "            params['page'] = max(last_page) + 1 if last_page else 1\n",
    "        print(params)\n",
    "        return self.catalog[ self._github_api( url, params = params ) ]\n",
    "    \n",
    "    def update( self, project_name ):\n",
    "        tmp = list( self.current )\n",
    "        tmp.append( project_name )\n",
    "        self.current = tmp\n",
    "        \n",
    "projects = Projects()"
   ]
  },
  {
   "cell_type": "code",
   "execution_count": 137,
   "metadata": {
    "collapsed": false
   },
   "outputs": [],
   "source": [
    "projects.current = ['jupyter/notebook', 'bokeh/bokeh']"
   ]
  },
  {
   "cell_type": "code",
   "execution_count": 138,
   "metadata": {
    "collapsed": false
   },
   "outputs": [
    {
     "data": {
      "text/plain": [
       "<Response [200]>"
      ]
     },
     "execution_count": 138,
     "metadata": {},
     "output_type": "execute_result"
    }
   ],
   "source": [
    "projects.catalog['https://api.github.com/repos/jupyter/notebook']['requests']"
   ]
  },
  {
   "cell_type": "code",
   "execution_count": 139,
   "metadata": {
    "collapsed": false
   },
   "outputs": [
    {
     "name": "stdout",
     "output_type": "stream",
     "text": [
      "{'page': 1}\n"
     ]
    }
   ],
   "source": [
    "iss = projects.more('https://api.github.com/repos/jupyter/notebook/issues', paginate=True)"
   ]
  },
  {
   "cell_type": "code",
   "execution_count": 140,
   "metadata": {
    "collapsed": false
   },
   "outputs": [
    {
     "name": "stdout",
     "output_type": "stream",
     "text": [
      "{'page': 2}\n"
     ]
    }
   ],
   "source": [
    "iss = projects.more('https://api.github.com/repos/jupyter/notebook/issues', paginate=True)"
   ]
  },
  {
   "cell_type": "code",
   "execution_count": null,
   "metadata": {
    "collapsed": true
   },
   "outputs": [],
   "source": []
  }
 ],
 "metadata": {
  "kernelspec": {
   "display_name": "Python 3",
   "language": "python",
   "name": "python3"
  },
  "language_info": {
   "codemirror_mode": {
    "name": "ipython",
    "version": 3
   },
   "file_extension": ".py",
   "mimetype": "text/x-python",
   "name": "python",
   "nbconvert_exporter": "python",
   "pygments_lexer": "ipython3",
   "version": "3.4.4"
  }
 },
 "nbformat": 4,
 "nbformat_minor": 0
}
