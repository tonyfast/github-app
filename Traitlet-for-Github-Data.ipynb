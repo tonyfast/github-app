{
 "cells": [
  {
   "cell_type": "code",
   "execution_count": 412,
   "metadata": {
    "collapsed": false
   },
   "outputs": [],
   "source": [
    "import IPython, ipywidgets, traitlets, requests, pandas, jinja2\n",
    "from coffeetools import coffee\n",
    "from bokeh.sampledata import iris\n",
    "%reload_ext yamlmagic\n",
    "%reload_ext autoreload\n",
    "%autoreload 2"
   ]
  },
  {
   "cell_type": "code",
   "execution_count": 536,
   "metadata": {
    "collapsed": false
   },
   "outputs": [],
   "source": [
    "access_token = ipywidgets.Text('asdf')\n",
    "access_token"
   ]
  },
  {
   "cell_type": "code",
   "execution_count": 530,
   "metadata": {
    "collapsed": false
   },
   "outputs": [],
   "source": [
    "class Projects( traitlets.HasTraits ):\n",
    "    current = traitlets.List([])\n",
    "    def __init__( self, *args, **kwargs ):\n",
    "        self.catalog = {}   \n",
    "        self.session = requests.Session()\n",
    "        \n",
    "    @traitlets.observe('current')\n",
    "    def _update_projects(self, change, *args, **kwargs):\n",
    "        for project_or_url in change['new']:\n",
    "            self._github_api( project_or_url )\n",
    "        self.df = self.to_dataframe()\n",
    "                \n",
    "    def _github_api( self, project_or_url, params = {} ):\n",
    "        if not project_or_url.startswith('http'):\n",
    "            map_to_project = True\n",
    "            user, repo = project_or_url.split('/')\n",
    "            url = None\n",
    "        else:\n",
    "            map_to_project = False\n",
    "            url = project_or_url\n",
    "        if not url:\n",
    "            url = 'https://api.github.com/repos/' + user + '/' + repo\n",
    "                \n",
    "        request = requests.Request('GET', url=url, params=params.copy(), headers={'User-Agent': 'tonyfast'} )\n",
    "        url = request.prepare().url\n",
    "        if not url in self.catalog.keys():            \n",
    "            request.params['access_token'] = globals()['access_token'].value\n",
    "            self.catalog[url] = {\n",
    "                'requests': self.session.send(request.prepare()),\n",
    "                'time': str(pandas.datetime.now()),\n",
    "                'params': params.copy(),\n",
    "            } \n",
    "            if map_to_project:\n",
    "                self.catalog[project_or_url] = self.catalog[url]\n",
    "        return url\n",
    "    \n",
    "    def table( self ):\n",
    "        return IPython.display.HTML(\"\"\"<table id=\"catalog\" class=\"table\"></table> \"\"\")\n",
    "        \n",
    "    \n",
    "    def interact( self ):\n",
    "        columns = ipywidgets.SelectMultiple( options=self.df.columns.tolist() )\n",
    "        columns.value = ('url',)\n",
    "        return IPython.display.display(columns, ipywidgets.interact( lambda i = [0, self.df.shape[0]-10 ]: self.update_table( i, list(columns.value) ))),\n",
    "    \n",
    "    def update_table( self, i, columns ):\n",
    "        return IPython.display.Javascript(coffee.compile(jinja2.Template(\"\"\"\n",
    "        data = {{df}}\n",
    "        table = d3.select '#catalog'\n",
    "        header = table.selectAll 'tr.header'\n",
    "            .data [ '', data['columns'] ]\n",
    "        header.enter().append('tr').classed 'header', true\n",
    "        header.each (d)->\n",
    "            cells = d3.select @\n",
    "                .selectAll 'th'\n",
    "                .data d\n",
    "            cells.enter().append 'th'\n",
    "            cells.text (d)-> d\n",
    "            cells.exit().remove()\n",
    "        header.exit().remove()\n",
    "        value = table.selectAll 'tr.value'\n",
    "            .data data['data']\n",
    "        value.enter().append('tr').classed 'value', true\n",
    "        value.each (d)->\n",
    "            cells = d3.select @\n",
    "                .selectAll 'td'\n",
    "                .data d\n",
    "            cells.enter().append 'td'\n",
    "            cells.text (d)-> d\n",
    "            cells.exit().remove()  \n",
    "        value.exit().remove()\n",
    "        \"\"\").render(df = self.df[columns].iloc[i:i+10].to_json(orient='split'))))\n",
    "    \n",
    "    def more( self, url, params = {}, paginate=False ):\n",
    "        if paginate:\n",
    "            last_page = [v['params']['page'] for k, v in self.catalog.items() if k.startswith(url) and 'page' in v['params']]\n",
    "            params['page'] = max(last_page) + 1 if last_page else 1\n",
    "        url = self._github_api( url, params = params )\n",
    "        self.df = self.to_dataframe()\n",
    "        return self.catalog[url]\n",
    "    \n",
    "    def update( self, project_name ):\n",
    "        tmp = list( self.current )\n",
    "        tmp.append( project_name )\n",
    "        self.current = tmp\n",
    "        \n",
    "    def to_dataframe( self ):\n",
    "        v = []\n",
    "        for _v in self.catalog.values():\n",
    "            _v = _v['requests'].json()\n",
    "            if isinstance( _v, list ):\n",
    "                v.extend(_v)\n",
    "        return pandas.DataFrame(v)\n",
    "projects = Projects()"
   ]
  },
  {
   "cell_type": "code",
   "execution_count": 531,
   "metadata": {
    "collapsed": false
   },
   "outputs": [],
   "source": [
    "projects.current = ['jupyter/notebook', 'bokeh/bokeh']"
   ]
  },
  {
   "cell_type": "code",
   "execution_count": 532,
   "metadata": {
    "collapsed": false
   },
   "outputs": [],
   "source": [
    "iss = projects.more('https://api.github.com/repos/jupyter/notebook/issues', paginate=True)"
   ]
  },
  {
   "cell_type": "code",
   "execution_count": 533,
   "metadata": {
    "collapsed": false
   },
   "outputs": [],
   "source": [
    "iss = projects.more('https://api.github.com/repos/jupyter/notebook/issues', paginate=True)"
   ]
  },
  {
   "cell_type": "code",
   "execution_count": 534,
   "metadata": {
    "collapsed": false
   },
   "outputs": [
    {
     "data": {
      "application/javascript": [
       "// Generated by CoffeeScript 1.10.0\n",
       "(function() {\n",
       "  var data, header, table, value;\n",
       "\n",
       "  data = {\n",
       "    \"columns\": [\"assignee\", \"body\", \"user\"],\n",
       "    \"index\": [15, 16, 17, 18, 19, 20, 21, 22, 23, 24],\n",
       "    \"data\": [\n",
       "      [\n",
       "        null, \"This is **untested**, since I couldn't build the notebook locally.\\r\\n\\r\\nHowever, there's a similar error in [nbconvert](https:\\/\\/github.com\\/jupyter\\/nbconvert\\/blob\\/560a1fc8ead384e1953349f2300185ee7041882c\\/nbconvert\\/filters\\/ansi.py#L28), where changing `01` to `1` fixes the problem.\", {\n",
       "          \"repos_url\": \"https:\\/\\/api.github.com\\/users\\/mgeier\\/repos\",\n",
       "          \"organizations_url\": \"https:\\/\\/api.github.com\\/users\\/mgeier\\/orgs\",\n",
       "          \"url\": \"https:\\/\\/api.github.com\\/users\\/mgeier\",\n",
       "          \"avatar_url\": \"https:\\/\\/avatars.githubusercontent.com\\/u\\/705404?v=3\",\n",
       "          \"login\": \"mgeier\",\n",
       "          \"starred_url\": \"https:\\/\\/api.github.com\\/users\\/mgeier\\/starred{\\/owner}{\\/repo}\",\n",
       "          \"gravatar_id\": \"\",\n",
       "          \"subscriptions_url\": \"https:\\/\\/api.github.com\\/users\\/mgeier\\/subscriptions\",\n",
       "          \"followers_url\": \"https:\\/\\/api.github.com\\/users\\/mgeier\\/followers\",\n",
       "          \"html_url\": \"https:\\/\\/github.com\\/mgeier\",\n",
       "          \"received_events_url\": \"https:\\/\\/api.github.com\\/users\\/mgeier\\/received_events\",\n",
       "          \"events_url\": \"https:\\/\\/api.github.com\\/users\\/mgeier\\/events{\\/privacy}\",\n",
       "          \"gists_url\": \"https:\\/\\/api.github.com\\/users\\/mgeier\\/gists{\\/gist_id}\",\n",
       "          \"type\": \"User\",\n",
       "          \"site_admin\": false,\n",
       "          \"following_url\": \"https:\\/\\/api.github.com\\/users\\/mgeier\\/following{\\/other_user}\",\n",
       "          \"id\": 705404\n",
       "        }\n",
       "      ], [\n",
       "        null, \"I would propose for (5.0, maybe earlier) \\r\\nto bake into the notebook a notion of Hybrid content manager and \\\"mount point\\\" or the dashboard.\\r\\n\\r\\nThe would allow to have content manager that expose in some folder \\\"normals\\\" ipynbs, in others `ipymd`...etc. \\r\\n\\r\\nBy default, \\\"normal\\\" content manager would be mounted on `\\/`.\\r\\n\\r\\nI want that to have **some** notebook as `ipymd` for collaboration.\", {\n",
       "          \"repos_url\": \"https:\\/\\/api.github.com\\/users\\/Carreau\\/repos\",\n",
       "          \"organizations_url\": \"https:\\/\\/api.github.com\\/users\\/Carreau\\/orgs\",\n",
       "          \"url\": \"https:\\/\\/api.github.com\\/users\\/Carreau\",\n",
       "          \"avatar_url\": \"https:\\/\\/avatars.githubusercontent.com\\/u\\/335567?v=3\",\n",
       "          \"login\": \"Carreau\",\n",
       "          \"starred_url\": \"https:\\/\\/api.github.com\\/users\\/Carreau\\/starred{\\/owner}{\\/repo}\",\n",
       "          \"gravatar_id\": \"\",\n",
       "          \"subscriptions_url\": \"https:\\/\\/api.github.com\\/users\\/Carreau\\/subscriptions\",\n",
       "          \"followers_url\": \"https:\\/\\/api.github.com\\/users\\/Carreau\\/followers\",\n",
       "          \"html_url\": \"https:\\/\\/github.com\\/Carreau\",\n",
       "          \"received_events_url\": \"https:\\/\\/api.github.com\\/users\\/Carreau\\/received_events\",\n",
       "          \"events_url\": \"https:\\/\\/api.github.com\\/users\\/Carreau\\/events{\\/privacy}\",\n",
       "          \"gists_url\": \"https:\\/\\/api.github.com\\/users\\/Carreau\\/gists{\\/gist_id}\",\n",
       "          \"type\": \"User\",\n",
       "          \"site_admin\": false,\n",
       "          \"following_url\": \"https:\\/\\/api.github.com\\/users\\/Carreau\\/following{\\/other_user}\",\n",
       "          \"id\": 335567\n",
       "        }\n",
       "      ], [\n",
       "        null, \"@denfromufa opened ipython\\/ipython#8970\\n\\nhttp:\\/\\/localhost:8888\\/tree shows \\r\\n\\r\\n```\\r\\n404 : Not Found\\r\\nYou are requesting a page that does not exist!\\r\\n```\\r\\n\\r\\nconsole shows:\\r\\n\\r\\n```\\r\\nC:\\\\>ipython notebook\\r\\n[I 14:28:29.232 NotebookApp] Serving notebooks from local directory: C:\\\\\\r\\n[I 14:28:29.233 NotebookApp] 0 active kernels\\r\\n[I 14:28:29.234 NotebookApp] The IPython Notebook is running at: http:\\/\\/localhos\\r\\nt:8888\\/\\r\\n[I 14:28:29.234 NotebookApp] Use Control-C to stop this server and shut down all\\r\\n kernels (twice to skip confirmation).\\r\\n[I 14:28:29.492 NotebookApp] Refusing to serve hidden directory, via 404 Error\\r\\n[W 14:28:29.515 NotebookApp] 404 GET \\/tree (::1) 24.00ms referer=None\\r\\n```\", {\n",
       "          \"repos_url\": \"https:\\/\\/api.github.com\\/users\\/Carreau\\/repos\",\n",
       "          \"organizations_url\": \"https:\\/\\/api.github.com\\/users\\/Carreau\\/orgs\",\n",
       "          \"url\": \"https:\\/\\/api.github.com\\/users\\/Carreau\",\n",
       "          \"avatar_url\": \"https:\\/\\/avatars.githubusercontent.com\\/u\\/335567?v=3\",\n",
       "          \"login\": \"Carreau\",\n",
       "          \"starred_url\": \"https:\\/\\/api.github.com\\/users\\/Carreau\\/starred{\\/owner}{\\/repo}\",\n",
       "          \"gravatar_id\": \"\",\n",
       "          \"subscriptions_url\": \"https:\\/\\/api.github.com\\/users\\/Carreau\\/subscriptions\",\n",
       "          \"followers_url\": \"https:\\/\\/api.github.com\\/users\\/Carreau\\/followers\",\n",
       "          \"html_url\": \"https:\\/\\/github.com\\/Carreau\",\n",
       "          \"received_events_url\": \"https:\\/\\/api.github.com\\/users\\/Carreau\\/received_events\",\n",
       "          \"events_url\": \"https:\\/\\/api.github.com\\/users\\/Carreau\\/events{\\/privacy}\",\n",
       "          \"gists_url\": \"https:\\/\\/api.github.com\\/users\\/Carreau\\/gists{\\/gist_id}\",\n",
       "          \"type\": \"User\",\n",
       "          \"site_admin\": false,\n",
       "          \"following_url\": \"https:\\/\\/api.github.com\\/users\\/Carreau\\/following{\\/other_user}\",\n",
       "          \"id\": 335567\n",
       "        }\n",
       "      ], [\n",
       "        null, \"@zggjtsgzczh opened ipython\\/ipython#8990\\n\\nI had a python2.7 on jupyter, then update to python3.5 on jupyter,my way updated following:\\r\\n```python\\r\\nconda update conda\\r\\nconda create -n py35 python=3.5 anaconda\\r\\nactivate py35\\r\\nipython kernelspec install-self\\r\\ndeactivate\\r\\n```\\r\\n\\r\\nAnd then, launching to jupyter notebook, existing python2.7 verywell and python3.5 does not working, error message output of kernel console:\\r\\n```python\\r\\nC:\\\\jupyter notebook\\r\\n[I 18:14:09.581 NotebookApp] Serving notebooks from local directory: E:\\\\python_temp\\\\\\r\\n[I 18:14:09.582 NotebookApp] 0 active kernels\\r\\n[I 18:14:09.582 NotebookApp] The IPython Notebook is running at: http:\\/\\/localhost:8888\\/\\r\\n[I 18:14:09.582 NotebookApp] Use Control-C to stop this server and shut down all kernels (twice to skip confirmation).\\r\\n[I 18:14:16.984 NotebookApp] Creating new notebook in\\r\\n[I 18:14:17.694 NotebookApp] Kernel started: f6fcef67-774c-4640-a385-fd1644b09bb8\\r\\nd:\\\\Miniconda\\\\envs\\\\py35\\\\python.exe: Error while finding spec for 'ipykernel.__main__' (<class 'ImportError'>: DLL load failed: \\u627e\\u4e0d\\u5230\\u6307\\u5b9a\\u7684\\u6a21\\u5757\\u3002); 'ipykernel' is a package\\r\\n and cannot be directly executed\\r\\n[I 18:14:20.690 NotebookApp] KernelRestarter: restarting kernel (1\\/5)\\r\\nd:\\\\Miniconda\\\\envs\\\\py35\\\\python.exe: Error while finding spec for 'ipykernel.__main__' (<class 'ImportError'>: DLL load failed: \\u627e\\u4e0d\\u5230\\u6307\\u5b9a\\u7684\\u6a21\\u5757\\u3002); 'ipykernel' is a package\\r\\n and cannot be directly executed\\r\\n[I 18:14:23.696 NotebookApp] KernelRestarter: restarting kernel (2\\/5)\\r\\nd:\\\\Miniconda\\\\envs\\\\py35\\\\python.exe: Error while finding spec for 'ipykernel.__main__' (<class 'ImportError'>: DLL load failed: \\u627e\\u4e0d\\u5230\\u6307\\u5b9a\\u7684\\u6a21\\u5757\\u3002); 'ipykernel' is a package\\r\\n and cannot be directly executed\\r\\n[I 18:14:26.701 NotebookApp] KernelRestarter: restarting kernel (3\\/5)\\r\\nd:\\\\Miniconda\\\\envs\\\\py35\\\\python.exe: Error while finding spec for 'ipykernel.__main__' (<class 'ImportError'>: DLL load failed: \\u627e\\u4e0d\\u5230\\u6307\\u5b9a\\u7684\\u6a21\\u5757\\u3002); 'ipykernel' is a package\\r\\n and cannot be directly executed\\r\\n[W 18:14:27.720 NotebookApp] Timeout waiting for kernel_info reply from f6fcef67-774c-4640-a385-fd1644b09bb8\\r\\n[I 18:14:29.707 NotebookApp] KernelRestarter: restarting kernel (4\\/5)\\r\\nWARNING:root:kernel f6fcef67-774c-4640-a385-fd1644b09bb8 restarted\\r\\nd:\\\\Miniconda\\\\envs\\\\py35\\\\python.exe: Error while finding spec for 'ipykernel.__main__' (<class 'ImportError'>: DLL load failed: \\u627e\\u4e0d\\u5230\\u6307\\u5b9a\\u7684\\u6a21\\u5757\\u3002); 'ipykernel' is a package\\r\\n and cannot be directly executed\\r\\n[W 18:14:32.713 NotebookApp] KernelRestarter: restart failed\\r\\n[W 18:14:32.713 NotebookApp] Kernel f6fcef67-774c-4640-a385-fd1644b09bb8 died, removing from map.\\r\\nERROR:root:kernel f6fcef67-774c-4640-a385-fd1644b09bb8 restarted failed!\\r\\n[W 18:14:32.724 NotebookApp] Kernel deleted before session\\r\\n[W 18:14:32.726 NotebookApp] 410 DELETE \\/api\\/sessions\\/62b3a112-8474-46ea-a8a1-45076e31e72e (::1) 1.00ms referer=http:\\/\\/localhost:8888\\/notebooks\\/Untitled5.ipynb?kernel_name\\r\\n=python3\\r\\n```\\r\\n\\r\\nThere is my kernel.json file content in \\\"C:\\\\Users\\\\hinded\\\\AppData\\\\Roaming\\\\jupyter\\\\kernels\\\\python3\\\\\\\":\\r\\n```python\\r\\n{\\r\\n \\\"argv\\\": [\\r\\n  \\\"d:\\\\\\\\Miniconda\\\\\\\\envs\\\\\\\\py35\\\\\\\\python.exe\\\",\\r\\n  \\\"-m\\\",\\r\\n  \\\"ipykernel\\\",\\r\\n  \\\"-f\\\",\\r\\n  \\\"{connection_file}\\\"\\r\\n ],\\r\\n \\\"display_name\\\": \\\"Python 3\\\",\\r\\n \\\"language\\\": \\\"python\\\"\\r\\n}\\r\\n```\\r\\n\\r\\nWhere something wrong? thanks\\r\\n\\r\\n***\\r\\npython2.7 & python3.5\\r\\nwin8\\r\\njupyter 4.0.6\\r\\n\", {\n",
       "          \"repos_url\": \"https:\\/\\/api.github.com\\/users\\/Carreau\\/repos\",\n",
       "          \"organizations_url\": \"https:\\/\\/api.github.com\\/users\\/Carreau\\/orgs\",\n",
       "          \"url\": \"https:\\/\\/api.github.com\\/users\\/Carreau\",\n",
       "          \"avatar_url\": \"https:\\/\\/avatars.githubusercontent.com\\/u\\/335567?v=3\",\n",
       "          \"login\": \"Carreau\",\n",
       "          \"starred_url\": \"https:\\/\\/api.github.com\\/users\\/Carreau\\/starred{\\/owner}{\\/repo}\",\n",
       "          \"gravatar_id\": \"\",\n",
       "          \"subscriptions_url\": \"https:\\/\\/api.github.com\\/users\\/Carreau\\/subscriptions\",\n",
       "          \"followers_url\": \"https:\\/\\/api.github.com\\/users\\/Carreau\\/followers\",\n",
       "          \"html_url\": \"https:\\/\\/github.com\\/Carreau\",\n",
       "          \"received_events_url\": \"https:\\/\\/api.github.com\\/users\\/Carreau\\/received_events\",\n",
       "          \"events_url\": \"https:\\/\\/api.github.com\\/users\\/Carreau\\/events{\\/privacy}\",\n",
       "          \"gists_url\": \"https:\\/\\/api.github.com\\/users\\/Carreau\\/gists{\\/gist_id}\",\n",
       "          \"type\": \"User\",\n",
       "          \"site_admin\": false,\n",
       "          \"following_url\": \"https:\\/\\/api.github.com\\/users\\/Carreau\\/following{\\/other_user}\",\n",
       "          \"id\": 335567\n",
       "        }\n",
       "      ], [\n",
       "        null, \"@datnamer opened ipython\\/ipython#8999\\n\\nWindows 7, python 3.5, Jupyter 4.0 and rackspace hosted Python 3 instance. \\r\\n\\r\\nRegular tab works for global scope of exceptions etc, but   I'm not getting function args with shift-tab \", {\n",
       "          \"repos_url\": \"https:\\/\\/api.github.com\\/users\\/Carreau\\/repos\",\n",
       "          \"organizations_url\": \"https:\\/\\/api.github.com\\/users\\/Carreau\\/orgs\",\n",
       "          \"url\": \"https:\\/\\/api.github.com\\/users\\/Carreau\",\n",
       "          \"avatar_url\": \"https:\\/\\/avatars.githubusercontent.com\\/u\\/335567?v=3\",\n",
       "          \"login\": \"Carreau\",\n",
       "          \"starred_url\": \"https:\\/\\/api.github.com\\/users\\/Carreau\\/starred{\\/owner}{\\/repo}\",\n",
       "          \"gravatar_id\": \"\",\n",
       "          \"subscriptions_url\": \"https:\\/\\/api.github.com\\/users\\/Carreau\\/subscriptions\",\n",
       "          \"followers_url\": \"https:\\/\\/api.github.com\\/users\\/Carreau\\/followers\",\n",
       "          \"html_url\": \"https:\\/\\/github.com\\/Carreau\",\n",
       "          \"received_events_url\": \"https:\\/\\/api.github.com\\/users\\/Carreau\\/received_events\",\n",
       "          \"events_url\": \"https:\\/\\/api.github.com\\/users\\/Carreau\\/events{\\/privacy}\",\n",
       "          \"gists_url\": \"https:\\/\\/api.github.com\\/users\\/Carreau\\/gists{\\/gist_id}\",\n",
       "          \"type\": \"User\",\n",
       "          \"site_admin\": false,\n",
       "          \"following_url\": \"https:\\/\\/api.github.com\\/users\\/Carreau\\/following{\\/other_user}\",\n",
       "          \"id\": 335567\n",
       "        }\n",
       "      ], [\n",
       "        null, \"@KelSolaar opened ipython\\/ipython#9064\\n\\nI have trouble rendering some inline Latex form, I'm maybe doing something incorrect but the following snippet illustrate the issue:\\r\\n\\r\\n```\\r\\n$M_{RED\\\\rightarrow RGB}$, $M_{XYZ\\\\rightarrow RGB}$ # Fine\\r\\n\\r\\n\\\\\\\\(M_{RED\\\\rightarrow RGB}\\\\\\\\), $M_{XYZ\\\\rightarrow RGB}$ # Fine\\r\\n\\r\\n\\\\\\\\(M_{RED\\\\rightarrow RGB}\\\\\\\\), \\\\\\\\(M_{XYZ\\\\rightarrow RGB}\\\\\\\\) # Broken\\r\\n```\\r\\n\\r\\nMy stack is as follows:\\r\\n\\r\\n```\\r\\nServer Information:\\r\\n\\r\\nYou are using Jupyter notebook.\\r\\n\\r\\nThe version of the notebook server is 4.0.6 and is running on:\\r\\nPython 3.5.0 |Anaconda 2.4.0 (64-bit)| (default, Oct 19 2015, 21:57:25) \\r\\n[GCC 4.4.7 20120313 (Red Hat 4.4.7-1)]\\r\\n\\r\\nCurrent Kernel Information:\\r\\n\\r\\nPython 3.5.0 |Anaconda 2.4.0 (64-bit)| (default, Oct 19 2015, 21:57:25) \\r\\nType \\\"copyright\\\", \\\"credits\\\" or \\\"license\\\" for more information.\\r\\n\\r\\nIPython 4.0.0 -- An enhanced Interactive Python.\\r\\n?         -> Introduction and overview of IPython's features.\\r\\n%quickref -> Quick reference.\\r\\nhelp      -> Python's own help system.\\r\\nobject?   -> Details about 'object', use 'object??' for extra details.\\r\\n%guiref   -> A brief reference about the graphical user interface.\\r\\n```\\r\\n\\r\\n\", {\n",
       "          \"repos_url\": \"https:\\/\\/api.github.com\\/users\\/Carreau\\/repos\",\n",
       "          \"organizations_url\": \"https:\\/\\/api.github.com\\/users\\/Carreau\\/orgs\",\n",
       "          \"url\": \"https:\\/\\/api.github.com\\/users\\/Carreau\",\n",
       "          \"avatar_url\": \"https:\\/\\/avatars.githubusercontent.com\\/u\\/335567?v=3\",\n",
       "          \"login\": \"Carreau\",\n",
       "          \"starred_url\": \"https:\\/\\/api.github.com\\/users\\/Carreau\\/starred{\\/owner}{\\/repo}\",\n",
       "          \"gravatar_id\": \"\",\n",
       "          \"subscriptions_url\": \"https:\\/\\/api.github.com\\/users\\/Carreau\\/subscriptions\",\n",
       "          \"followers_url\": \"https:\\/\\/api.github.com\\/users\\/Carreau\\/followers\",\n",
       "          \"html_url\": \"https:\\/\\/github.com\\/Carreau\",\n",
       "          \"received_events_url\": \"https:\\/\\/api.github.com\\/users\\/Carreau\\/received_events\",\n",
       "          \"events_url\": \"https:\\/\\/api.github.com\\/users\\/Carreau\\/events{\\/privacy}\",\n",
       "          \"gists_url\": \"https:\\/\\/api.github.com\\/users\\/Carreau\\/gists{\\/gist_id}\",\n",
       "          \"type\": \"User\",\n",
       "          \"site_admin\": false,\n",
       "          \"following_url\": \"https:\\/\\/api.github.com\\/users\\/Carreau\\/following{\\/other_user}\",\n",
       "          \"id\": 335567\n",
       "        }\n",
       "      ], [\n",
       "        null, \"@ellisonbg opened ipython\\/ipython#8219\\n\\nIn previous version of the notebook all hyperlinks were blue, but not underlined. Now they are all underlined :( Was this a deliberate design change or accident? I prefer no underlines.\", {\n",
       "          \"repos_url\": \"https:\\/\\/api.github.com\\/users\\/Carreau\\/repos\",\n",
       "          \"organizations_url\": \"https:\\/\\/api.github.com\\/users\\/Carreau\\/orgs\",\n",
       "          \"url\": \"https:\\/\\/api.github.com\\/users\\/Carreau\",\n",
       "          \"avatar_url\": \"https:\\/\\/avatars.githubusercontent.com\\/u\\/335567?v=3\",\n",
       "          \"login\": \"Carreau\",\n",
       "          \"starred_url\": \"https:\\/\\/api.github.com\\/users\\/Carreau\\/starred{\\/owner}{\\/repo}\",\n",
       "          \"gravatar_id\": \"\",\n",
       "          \"subscriptions_url\": \"https:\\/\\/api.github.com\\/users\\/Carreau\\/subscriptions\",\n",
       "          \"followers_url\": \"https:\\/\\/api.github.com\\/users\\/Carreau\\/followers\",\n",
       "          \"html_url\": \"https:\\/\\/github.com\\/Carreau\",\n",
       "          \"received_events_url\": \"https:\\/\\/api.github.com\\/users\\/Carreau\\/received_events\",\n",
       "          \"events_url\": \"https:\\/\\/api.github.com\\/users\\/Carreau\\/events{\\/privacy}\",\n",
       "          \"gists_url\": \"https:\\/\\/api.github.com\\/users\\/Carreau\\/gists{\\/gist_id}\",\n",
       "          \"type\": \"User\",\n",
       "          \"site_admin\": false,\n",
       "          \"following_url\": \"https:\\/\\/api.github.com\\/users\\/Carreau\\/following{\\/other_user}\",\n",
       "          \"id\": 335567\n",
       "        }\n",
       "      ], [\n",
       "        null, \"For example, the command `!find . -name foo | head -1` yields:\\r\\n\\r\\n```shell\\r\\nfoo\\r\\nfind: `standard output': Broken pipe\\r\\nfind: write error\\r\\n```\\r\\n\\r\\nTested on jupyter NB  4.0.6 & 4.1.0 w\\/python 3.4.3 on Ubuntu 14.04.3.\", {\n",
       "          \"repos_url\": \"https:\\/\\/api.github.com\\/users\\/esafak\\/repos\",\n",
       "          \"organizations_url\": \"https:\\/\\/api.github.com\\/users\\/esafak\\/orgs\",\n",
       "          \"url\": \"https:\\/\\/api.github.com\\/users\\/esafak\",\n",
       "          \"avatar_url\": \"https:\\/\\/avatars.githubusercontent.com\\/u\\/3928300?v=3\",\n",
       "          \"login\": \"esafak\",\n",
       "          \"starred_url\": \"https:\\/\\/api.github.com\\/users\\/esafak\\/starred{\\/owner}{\\/repo}\",\n",
       "          \"gravatar_id\": \"\",\n",
       "          \"subscriptions_url\": \"https:\\/\\/api.github.com\\/users\\/esafak\\/subscriptions\",\n",
       "          \"followers_url\": \"https:\\/\\/api.github.com\\/users\\/esafak\\/followers\",\n",
       "          \"html_url\": \"https:\\/\\/github.com\\/esafak\",\n",
       "          \"received_events_url\": \"https:\\/\\/api.github.com\\/users\\/esafak\\/received_events\",\n",
       "          \"events_url\": \"https:\\/\\/api.github.com\\/users\\/esafak\\/events{\\/privacy}\",\n",
       "          \"gists_url\": \"https:\\/\\/api.github.com\\/users\\/esafak\\/gists{\\/gist_id}\",\n",
       "          \"type\": \"User\",\n",
       "          \"site_admin\": false,\n",
       "          \"following_url\": \"https:\\/\\/api.github.com\\/users\\/esafak\\/following{\\/other_user}\",\n",
       "          \"id\": 3928300\n",
       "        }\n",
       "      ], [\n",
       "        null, \"@neilzimmerman opened ipython\\/ipython#8069\\n\\nAny time you a pushed directly into a new notebook, the 'kernel_ready.Kernel' is triggered twice from kernel.js. This usually happens when creating a new notebook or \\\"making a copy\\\" from within a running notebook.\\r\\n\", {\n",
       "          \"repos_url\": \"https:\\/\\/api.github.com\\/users\\/minrk\\/repos\",\n",
       "          \"organizations_url\": \"https:\\/\\/api.github.com\\/users\\/minrk\\/orgs\",\n",
       "          \"url\": \"https:\\/\\/api.github.com\\/users\\/minrk\",\n",
       "          \"avatar_url\": \"https:\\/\\/avatars.githubusercontent.com\\/u\\/151929?v=3\",\n",
       "          \"login\": \"minrk\",\n",
       "          \"starred_url\": \"https:\\/\\/api.github.com\\/users\\/minrk\\/starred{\\/owner}{\\/repo}\",\n",
       "          \"gravatar_id\": \"\",\n",
       "          \"subscriptions_url\": \"https:\\/\\/api.github.com\\/users\\/minrk\\/subscriptions\",\n",
       "          \"followers_url\": \"https:\\/\\/api.github.com\\/users\\/minrk\\/followers\",\n",
       "          \"html_url\": \"https:\\/\\/github.com\\/minrk\",\n",
       "          \"received_events_url\": \"https:\\/\\/api.github.com\\/users\\/minrk\\/received_events\",\n",
       "          \"events_url\": \"https:\\/\\/api.github.com\\/users\\/minrk\\/events{\\/privacy}\",\n",
       "          \"gists_url\": \"https:\\/\\/api.github.com\\/users\\/minrk\\/gists{\\/gist_id}\",\n",
       "          \"type\": \"User\",\n",
       "          \"site_admin\": false,\n",
       "          \"following_url\": \"https:\\/\\/api.github.com\\/users\\/minrk\\/following{\\/other_user}\",\n",
       "          \"id\": 151929\n",
       "        }\n",
       "      ], [\n",
       "        null, \"<img width=\\\"474\\\" alt=\\\"screen shot 2016-01-18 at 3 58 43 pm\\\" src=\\\"https:\\/\\/cloud.githubusercontent.com\\/assets\\/2096628\\/12403987\\/7d8afbc2-bdfd-11e5-8a33-a5aeb0f9f018.png\\\">\\r\\n\\r\\n\\r\\n![jupyter-plugins-demo](https:\\/\\/cloud.githubusercontent.com\\/assets\\/2096628\\/12433088\\/b371cf50-bec4-11e5-9ffe-afc45412081c.gif)\\r\\n\", {\n",
       "          \"repos_url\": \"https:\\/\\/api.github.com\\/users\\/blink1073\\/repos\",\n",
       "          \"organizations_url\": \"https:\\/\\/api.github.com\\/users\\/blink1073\\/orgs\",\n",
       "          \"url\": \"https:\\/\\/api.github.com\\/users\\/blink1073\",\n",
       "          \"avatar_url\": \"https:\\/\\/avatars.githubusercontent.com\\/u\\/2096628?v=3\",\n",
       "          \"login\": \"blink1073\",\n",
       "          \"starred_url\": \"https:\\/\\/api.github.com\\/users\\/blink1073\\/starred{\\/owner}{\\/repo}\",\n",
       "          \"gravatar_id\": \"\",\n",
       "          \"subscriptions_url\": \"https:\\/\\/api.github.com\\/users\\/blink1073\\/subscriptions\",\n",
       "          \"followers_url\": \"https:\\/\\/api.github.com\\/users\\/blink1073\\/followers\",\n",
       "          \"html_url\": \"https:\\/\\/github.com\\/blink1073\",\n",
       "          \"received_events_url\": \"https:\\/\\/api.github.com\\/users\\/blink1073\\/received_events\",\n",
       "          \"events_url\": \"https:\\/\\/api.github.com\\/users\\/blink1073\\/events{\\/privacy}\",\n",
       "          \"gists_url\": \"https:\\/\\/api.github.com\\/users\\/blink1073\\/gists{\\/gist_id}\",\n",
       "          \"type\": \"User\",\n",
       "          \"site_admin\": false,\n",
       "          \"following_url\": \"https:\\/\\/api.github.com\\/users\\/blink1073\\/following{\\/other_user}\",\n",
       "          \"id\": 2096628\n",
       "        }\n",
       "      ]\n",
       "    ]\n",
       "  };\n",
       "\n",
       "  table = d3.select('#catalog');\n",
       "\n",
       "  header = table.selectAll('tr.header').data(['', data['columns']]);\n",
       "\n",
       "  header.enter().append('tr').classed('header', true);\n",
       "\n",
       "  header.each(function(d) {\n",
       "    var cells;\n",
       "    cells = d3.select(this).selectAll('th').data(d);\n",
       "    cells.enter().append('th');\n",
       "    cells.text(function(d) {\n",
       "      return d;\n",
       "    });\n",
       "    return cells.exit().remove();\n",
       "  });\n",
       "\n",
       "  header.exit().remove();\n",
       "\n",
       "  value = table.selectAll('tr.value').data(data['data']);\n",
       "\n",
       "  value.enter().append('tr').classed('value', true);\n",
       "\n",
       "  value.each(function(d) {\n",
       "    var cells;\n",
       "    cells = d3.select(this).selectAll('td').data(d);\n",
       "    cells.enter().append('td');\n",
       "    cells.text(function(d) {\n",
       "      return d;\n",
       "    });\n",
       "    return cells.exit().remove();\n",
       "  });\n",
       "\n",
       "  value.exit().remove();\n",
       "\n",
       "}).call(this);\n"
      ],
      "text/plain": [
       "<IPython.core.display.Javascript object>"
      ]
     },
     "metadata": {},
     "output_type": "display_data"
    }
   ],
   "source": [
    "projects.interact()"
   ]
  },
  {
   "cell_type": "code",
   "execution_count": 535,
   "metadata": {
    "collapsed": false,
    "scrolled": true
   },
   "outputs": [
    {
     "data": {
      "text/html": [
       "<table id=\"catalog\" class=\"table\"></table> "
      ],
      "text/plain": [
       "<IPython.core.display.HTML object>"
      ]
     },
     "execution_count": 535,
     "metadata": {},
     "output_type": "execute_result"
    }
   ],
   "source": [
    "projects.table()"
   ]
  },
  {
   "cell_type": "code",
   "execution_count": 402,
   "metadata": {
    "collapsed": false
   },
   "outputs": [],
   "source": [
    "def click( button, **kwargs ):\n",
    "    projects.more( button.value, paginate=True)"
   ]
  },
  {
   "cell_type": "code",
   "execution_count": 403,
   "metadata": {
    "collapsed": false
   },
   "outputs": [],
   "source": [
    "ipywidgets.SelectMultiple( options = projects.current, width = 800 )"
   ]
  },
  {
   "cell_type": "code",
   "execution_count": 302,
   "metadata": {
    "collapsed": false
   },
   "outputs": [],
   "source": [
    "buttons = []\n",
    "for key, value in project.items():\n",
    "    if key in ['issues_url','events_url']:\n",
    "        if '{' in value:\n",
    "            value = value.split('{')[0]\n",
    "        button = ipywidgets.Button( description = key.split('_url')[0] )\n",
    "        button.value = value \n",
    "        button.on_click( click )\n",
    "        buttons.append( button )"
   ]
  },
  {
   "cell_type": "code",
   "execution_count": 303,
   "metadata": {
    "collapsed": false
   },
   "outputs": [],
   "source": [
    "ipywidgets.Box(children=buttons)"
   ]
  },
  {
   "cell_type": "code",
   "execution_count": null,
   "metadata": {
    "collapsed": true
   },
   "outputs": [],
   "source": []
  }
 ],
 "metadata": {
  "kernelspec": {
   "display_name": "Python 3",
   "language": "python",
   "name": "python3"
  },
  "language_info": {
   "codemirror_mode": {
    "name": "ipython",
    "version": 3
   },
   "file_extension": ".py",
   "mimetype": "text/x-python",
   "name": "python",
   "nbconvert_exporter": "python",
   "pygments_lexer": "ipython3",
   "version": "3.4.4"
  }
 },
 "nbformat": 4,
 "nbformat_minor": 0
}
