{
 "cells": [
  {
   "cell_type": "code",
   "execution_count": 40,
   "metadata": {
    "collapsed": true
   },
   "outputs": [],
   "source": [
    "import IPython, ipywidgets, jinja2, pandas, bokeh.plotting, traitlets\n",
    "from coffeetools import coffee\n",
    "from bokeh.sampledata import  iris\n",
    "get_ipython = ipywidgets.get_ipython"
   ]
  },
  {
   "cell_type": "code",
   "execution_count": 9,
   "metadata": {
    "collapsed": false
   },
   "outputs": [
    {
     "name": "stdout",
     "output_type": "stream",
     "text": [
      "Overwriting _layouts/d3_helper.coffee\n"
     ]
    }
   ],
   "source": [
    "%%file _layouts/d3_helper.coffee\n",
    "window.update = ( selection, data, tag = 'div',  classes = [] )->\n",
    "    selection = selection.selectAll [tag, classes...].join '.'\n",
    "        .data data\n",
    "    selection.enter().append tag\n",
    "    for c in classes\n",
    "        selection.classed c, true\n",
    "    selection.exit().remove()\n",
    "    selection"
   ]
  },
  {
   "cell_type": "code",
   "execution_count": 10,
   "metadata": {
    "collapsed": false
   },
   "outputs": [
    {
     "name": "stdout",
     "output_type": "stream",
     "text": [
      "Overwriting _layouts/table.html\n"
     ]
    }
   ],
   "source": [
    "%%file _layouts/table.html\n",
    "<table id=\"catalog\" class=\"table\"></table>"
   ]
  },
  {
   "cell_type": "code",
   "execution_count": 148,
   "metadata": {
    "collapsed": false
   },
   "outputs": [
    {
     "name": "stdout",
     "output_type": "stream",
     "text": [
      "Writing _layouts/update_table_index.coffee\n"
     ]
    }
   ],
   "source": [
    "%%file _layouts/update_table_index.coffee\n",
    "data = {{df}}\n",
    "table = d3.select '#catalog'\n",
    "update table, [d3.merge [[' '], data['columns']]], 'tr', ['header']\n",
    "    .each (d)->\n",
    "        update d3.select(@), d, 'th'\n",
    "            .text (v)-> v\n",
    "update table, data['data'], 'tr', ['value']\n",
    "    .each (row,i)->\n",
    "        update d3.select(@), [data['index'][i]], 'th'\n",
    "            .text (v)-> JSON.stringify v\n",
    "        update d3.select(@), row, 'td'\n",
    "            .text (v)-> JSON.stringify v"
   ]
  },
  {
   "cell_type": "code",
   "execution_count": 149,
   "metadata": {
    "collapsed": false
   },
   "outputs": [
    {
     "name": "stdout",
     "output_type": "stream",
     "text": [
      "Overwriting _layouts/update_table.coffee\n"
     ]
    }
   ],
   "source": [
    "%%file _layouts/update_table.coffee\n",
    "data = {{df}}\n",
    "table = d3.select '#catalog'\n",
    "update table, [ data['columns'] ], 'tr', ['header']\n",
    "    .each (d)->\n",
    "        update d3.select(@), d, 'th'\n",
    "            .text (v)-> v\n",
    "update table, data['data'], 'tr', ['value']\n",
    "    .each (row)->\n",
    "        update d3.select(@), row, 'td'\n",
    "            .text (v)-> JSON.stringify v"
   ]
  },
  {
   "cell_type": "code",
   "execution_count": 150,
   "metadata": {
    "collapsed": false
   },
   "outputs": [],
   "source": [
    "class Views( ):\n",
    "    nrows = ipywidgets.IntText( description='Number of Rows', value=10 )\n",
    "    row = ipywidgets.IntSlider( description='Current Row', value=0, min=0, max=1 )\n",
    "    def __init__(self, df):\n",
    "        self.env = jinja2.Environment( loader = jinja2.FileSystemLoader('_layouts') )\n",
    "        self.df = df\n",
    "        self.template = {}\n",
    "        for key in self.env.list_templates():\n",
    "            self.template[key] = self.env.get_template( key )\n",
    "        self.columns = ipywidgets.SelectMultiple( options = df.columns.tolist(), height = 600, width = 750 )        \n",
    "        self.columns.selected_labels = self.columns.options[:10]\n",
    "        self.columns.observe(names='selected_labels', handler=lambda c, *args, **kwargs: self.subsample( {'new': self.row.value } ))\n",
    "        self.nrows.observe(names='value', handler=lambda c, *args, **kwargs: self.subsample( {'new': self.row.value } ))\n",
    "        self.row.max = self.df.shape[0]\n",
    "        self.row.observe( names='value', handler= self.subsample )      \n",
    "            \n",
    "    def process( self, template, df = None, bare=False, display=True, *args, **kwargs):\n",
    "        if isinstance(df, type(None)):\n",
    "             df = self.df\n",
    "        processing = self.template[template].render( df=df.to_json(orient='split'), *args, **kwargs )\n",
    "        if template.endswith('.coffee'):\n",
    "            processing = coffee.compile( processing, bare=bare )\n",
    "        if display:\n",
    "            if template.endswith('html'):\n",
    "                return IPython.display.HTML( processing )\n",
    "            if template.endswith('coffee') or template.endswith('js'):\n",
    "                return IPython.display.Javascript( processing )\n",
    "        return processing\n",
    "    \n",
    "    def layout( self, layout = [[]]):\n",
    "        return ipywidgets.VBox(children=[ipywidgets.HBox( children=vbox ) for vbox in layout])\n",
    "            \n",
    "    def display( self, *args ):\n",
    "        return IPython.display.display( *args )\n",
    "    \n",
    "    def table( self, df=None ):\n",
    "        if isinstance(df, type(None)):\n",
    "            self.display( self.process( self.template['table.html'].name ), \n",
    "                         self.layout([[self.nrows],[self.row]]) )\n",
    "            self.display( self.subsample( {'new': self.row.value } ) )\n",
    "        else:\n",
    "            self.display( self.process( self.template['update_table.coffee'].name, df ) )\n",
    "            \n",
    "    def subsample( self, i ):\n",
    "        self.table( self.df[list(self.columns.selected_labels)].iloc[i['new']:i['new']+self.nrows.value] )"
   ]
  },
  {
   "cell_type": "code",
   "execution_count": 151,
   "metadata": {
    "collapsed": false
   },
   "outputs": [
    {
     "data": {
      "application/javascript": [
       "// Generated by CoffeeScript 1.10.0\n",
       "(function() {\n",
       "  var slice = [].slice;\n",
       "\n",
       "  window.update = function(selection, data, tag, classes) {\n",
       "    var c, i, len;\n",
       "    if (tag == null) {\n",
       "      tag = 'div';\n",
       "    }\n",
       "    if (classes == null) {\n",
       "      classes = [];\n",
       "    }\n",
       "    selection = selection.selectAll([tag].concat(slice.call(classes)).join('.')).data(data);\n",
       "    selection.enter().append(tag);\n",
       "    for (i = 0, len = classes.length; i < len; i++) {\n",
       "      c = classes[i];\n",
       "      selection.classed(c, true);\n",
       "    }\n",
       "    selection.exit().remove();\n",
       "    return selection;\n",
       "  };\n",
       "\n",
       "}).call(this);\n"
      ],
      "text/plain": [
       "<IPython.core.display.Javascript object>"
      ]
     },
     "execution_count": 151,
     "metadata": {},
     "output_type": "execute_result"
    }
   ],
   "source": [
    "v = Views(iris.flowers)\n",
    "v.process(v.template['d3_helper.coffee'].name)"
   ]
  },
  {
   "cell_type": "code",
   "execution_count": 152,
   "metadata": {
    "collapsed": false
   },
   "outputs": [
    {
     "data": {
      "application/javascript": [
       "// Generated by CoffeeScript 1.10.0\n",
       "(function() {\n",
       "  var data, table;\n",
       "\n",
       "  data = {\n",
       "    \"columns\": [\"sepal_width\"],\n",
       "    \"index\": [87, 88, 89, 90, 91, 92, 93, 94, 95, 96],\n",
       "    \"data\": [[2.3], [3.0], [2.5], [2.6], [3.0], [2.6], [2.3], [2.7], [3.0], [2.9]]\n",
       "  };\n",
       "\n",
       "  table = d3.select('#catalog');\n",
       "\n",
       "  update(table, [data['columns']], 'tr', ['header']).each(function(d) {\n",
       "    return update(d3.select(this), d, 'th').text(function(v) {\n",
       "      return v;\n",
       "    });\n",
       "  });\n",
       "\n",
       "  update(table, data['data'], 'tr', ['value']).each(function(row) {\n",
       "    return update(d3.select(this), row, 'td').text(function(v) {\n",
       "      return JSON.stringify(v);\n",
       "    });\n",
       "  });\n",
       "\n",
       "}).call(this);\n"
      ],
      "text/plain": [
       "<IPython.core.display.Javascript object>"
      ]
     },
     "metadata": {},
     "output_type": "display_data"
    },
    {
     "data": {
      "application/javascript": [
       "// Generated by CoffeeScript 1.10.0\n",
       "(function() {\n",
       "  var data, table;\n",
       "\n",
       "  data = {\n",
       "    \"columns\": [\"sepal_width\", \"petal_width\"],\n",
       "    \"index\": [87, 88, 89, 90, 91, 92, 93, 94, 95, 96],\n",
       "    \"data\": [[2.3, 1.3], [3.0, 1.3], [2.5, 1.3], [2.6, 1.2], [3.0, 1.4], [2.6, 1.2], [2.3, 1.0], [2.7, 1.3], [3.0, 1.2], [2.9, 1.3]]\n",
       "  };\n",
       "\n",
       "  table = d3.select('#catalog');\n",
       "\n",
       "  update(table, [data['columns']], 'tr', ['header']).each(function(d) {\n",
       "    return update(d3.select(this), d, 'th').text(function(v) {\n",
       "      return v;\n",
       "    });\n",
       "  });\n",
       "\n",
       "  update(table, data['data'], 'tr', ['value']).each(function(row) {\n",
       "    return update(d3.select(this), row, 'td').text(function(v) {\n",
       "      return JSON.stringify(v);\n",
       "    });\n",
       "  });\n",
       "\n",
       "}).call(this);\n"
      ],
      "text/plain": [
       "<IPython.core.display.Javascript object>"
      ]
     },
     "metadata": {},
     "output_type": "display_data"
    },
    {
     "data": {
      "application/javascript": [
       "// Generated by CoffeeScript 1.10.0\n",
       "(function() {\n",
       "  var data, table;\n",
       "\n",
       "  data = {\n",
       "    \"columns\": [\"sepal_width\", \"petal_length\", \"petal_width\"],\n",
       "    \"index\": [87, 88, 89, 90, 91, 92, 93, 94, 95, 96],\n",
       "    \"data\": [[2.3, 4.4, 1.3], [3.0, 4.1, 1.3], [2.5, 4.0, 1.3], [2.6, 4.4, 1.2], [3.0, 4.6, 1.4], [2.6, 4.0, 1.2], [2.3, 3.3, 1.0], [2.7, 4.2, 1.3], [3.0, 4.2, 1.2], [2.9, 4.2, 1.3]]\n",
       "  };\n",
       "\n",
       "  table = d3.select('#catalog');\n",
       "\n",
       "  update(table, [data['columns']], 'tr', ['header']).each(function(d) {\n",
       "    return update(d3.select(this), d, 'th').text(function(v) {\n",
       "      return v;\n",
       "    });\n",
       "  });\n",
       "\n",
       "  update(table, data['data'], 'tr', ['value']).each(function(row) {\n",
       "    return update(d3.select(this), row, 'td').text(function(v) {\n",
       "      return JSON.stringify(v);\n",
       "    });\n",
       "  });\n",
       "\n",
       "}).call(this);\n"
      ],
      "text/plain": [
       "<IPython.core.display.Javascript object>"
      ]
     },
     "metadata": {},
     "output_type": "display_data"
    }
   ],
   "source": [
    "v.columns.height=200\n",
    "v.columns"
   ]
  },
  {
   "cell_type": "code",
   "execution_count": 153,
   "metadata": {
    "collapsed": false
   },
   "outputs": [
    {
     "data": {
      "text/html": [
       "<table id=\"catalog\" class=\"table\"></table>"
      ],
      "text/plain": [
       "<IPython.core.display.HTML object>"
      ]
     },
     "metadata": {},
     "output_type": "display_data"
    },
    {
     "data": {
      "application/javascript": [
       "// Generated by CoffeeScript 1.10.0\n",
       "(function() {\n",
       "  var data, table;\n",
       "\n",
       "  data = {\n",
       "    \"columns\": [\"sepal_length\", \"sepal_width\", \"petal_length\", \"petal_width\", \"species\"],\n",
       "    \"index\": [0, 1, 2, 3, 4, 5, 6, 7, 8, 9],\n",
       "    \"data\": [[5.1, 3.5, 1.4, 0.2, \"setosa\"], [4.9, 3.0, 1.4, 0.2, \"setosa\"], [4.7, 3.2, 1.3, 0.2, \"setosa\"], [4.6, 3.1, 1.5, 0.2, \"setosa\"], [5.0, 3.6, 1.4, 0.2, \"setosa\"], [5.4, 3.9, 1.7, 0.4, \"setosa\"], [4.6, 3.4, 1.4, 0.3, \"setosa\"], [5.0, 3.4, 1.5, 0.2, \"setosa\"], [4.4, 2.9, 1.4, 0.2, \"setosa\"], [4.9, 3.1, 1.5, 0.1, \"setosa\"]]\n",
       "  };\n",
       "\n",
       "  table = d3.select('#catalog');\n",
       "\n",
       "  update(table, [data['columns']], 'tr', ['header']).each(function(d) {\n",
       "    return update(d3.select(this), d, 'th').text(function(v) {\n",
       "      return v;\n",
       "    });\n",
       "  });\n",
       "\n",
       "  update(table, data['data'], 'tr', ['value']).each(function(row) {\n",
       "    return update(d3.select(this), row, 'td').text(function(v) {\n",
       "      return JSON.stringify(v);\n",
       "    });\n",
       "  });\n",
       "\n",
       "}).call(this);\n"
      ],
      "text/plain": [
       "<IPython.core.display.Javascript object>"
      ]
     },
     "metadata": {},
     "output_type": "display_data"
    },
    {
     "data": {
      "text/plain": [
       "None"
      ]
     },
     "metadata": {},
     "output_type": "display_data"
    },
    {
     "data": {
      "application/javascript": [
       "// Generated by CoffeeScript 1.10.0\n",
       "(function() {\n",
       "  var data, table;\n",
       "\n",
       "  data = {\n",
       "    \"columns\": [\"sepal_length\", \"sepal_width\", \"petal_length\", \"petal_width\", \"species\"],\n",
       "    \"index\": [6, 7, 8, 9, 10, 11, 12, 13, 14, 15],\n",
       "    \"data\": [[4.6, 3.4, 1.4, 0.3, \"setosa\"], [5.0, 3.4, 1.5, 0.2, \"setosa\"], [4.4, 2.9, 1.4, 0.2, \"setosa\"], [4.9, 3.1, 1.5, 0.1, \"setosa\"], [5.4, 3.7, 1.5, 0.2, \"setosa\"], [4.8, 3.4, 1.6, 0.2, \"setosa\"], [4.8, 3.0, 1.4, 0.1, \"setosa\"], [4.3, 3.0, 1.1, 0.1, \"setosa\"], [5.8, 4.0, 1.2, 0.2, \"setosa\"], [5.7, 4.4, 1.5, 0.4, \"setosa\"]]\n",
       "  };\n",
       "\n",
       "  table = d3.select('#catalog');\n",
       "\n",
       "  update(table, [data['columns']], 'tr', ['header']).each(function(d) {\n",
       "    return update(d3.select(this), d, 'th').text(function(v) {\n",
       "      return v;\n",
       "    });\n",
       "  });\n",
       "\n",
       "  update(table, data['data'], 'tr', ['value']).each(function(row) {\n",
       "    return update(d3.select(this), row, 'td').text(function(v) {\n",
       "      return JSON.stringify(v);\n",
       "    });\n",
       "  });\n",
       "\n",
       "}).call(this);\n"
      ],
      "text/plain": [
       "<IPython.core.display.Javascript object>"
      ]
     },
     "metadata": {},
     "output_type": "display_data"
    },
    {
     "data": {
      "application/javascript": [
       "// Generated by CoffeeScript 1.10.0\n",
       "(function() {\n",
       "  var data, table;\n",
       "\n",
       "  data = {\n",
       "    \"columns\": [\"sepal_length\", \"sepal_width\", \"petal_length\", \"petal_width\", \"species\"],\n",
       "    \"index\": [11, 12, 13, 14, 15, 16, 17, 18, 19, 20],\n",
       "    \"data\": [[4.8, 3.4, 1.6, 0.2, \"setosa\"], [4.8, 3.0, 1.4, 0.1, \"setosa\"], [4.3, 3.0, 1.1, 0.1, \"setosa\"], [5.8, 4.0, 1.2, 0.2, \"setosa\"], [5.7, 4.4, 1.5, 0.4, \"setosa\"], [5.4, 3.9, 1.3, 0.4, \"setosa\"], [5.1, 3.5, 1.4, 0.3, \"setosa\"], [5.7, 3.8, 1.7, 0.3, \"setosa\"], [5.1, 3.8, 1.5, 0.3, \"setosa\"], [5.4, 3.4, 1.7, 0.2, \"setosa\"]]\n",
       "  };\n",
       "\n",
       "  table = d3.select('#catalog');\n",
       "\n",
       "  update(table, [data['columns']], 'tr', ['header']).each(function(d) {\n",
       "    return update(d3.select(this), d, 'th').text(function(v) {\n",
       "      return v;\n",
       "    });\n",
       "  });\n",
       "\n",
       "  update(table, data['data'], 'tr', ['value']).each(function(row) {\n",
       "    return update(d3.select(this), row, 'td').text(function(v) {\n",
       "      return JSON.stringify(v);\n",
       "    });\n",
       "  });\n",
       "\n",
       "}).call(this);\n"
      ],
      "text/plain": [
       "<IPython.core.display.Javascript object>"
      ]
     },
     "metadata": {},
     "output_type": "display_data"
    },
    {
     "data": {
      "application/javascript": [
       "// Generated by CoffeeScript 1.10.0\n",
       "(function() {\n",
       "  var data, table;\n",
       "\n",
       "  data = {\n",
       "    \"columns\": [\"sepal_length\", \"sepal_width\", \"petal_length\", \"petal_width\", \"species\"],\n",
       "    \"index\": [18, 19, 20, 21, 22, 23, 24, 25, 26, 27],\n",
       "    \"data\": [[5.7, 3.8, 1.7, 0.3, \"setosa\"], [5.1, 3.8, 1.5, 0.3, \"setosa\"], [5.4, 3.4, 1.7, 0.2, \"setosa\"], [5.1, 3.7, 1.5, 0.4, \"setosa\"], [4.6, 3.6, 1.0, 0.2, \"setosa\"], [5.1, 3.3, 1.7, 0.5, \"setosa\"], [4.8, 3.4, 1.9, 0.2, \"setosa\"], [5.0, 3.0, 1.6, 0.2, \"setosa\"], [5.0, 3.4, 1.6, 0.4, \"setosa\"], [5.2, 3.5, 1.5, 0.2, \"setosa\"]]\n",
       "  };\n",
       "\n",
       "  table = d3.select('#catalog');\n",
       "\n",
       "  update(table, [data['columns']], 'tr', ['header']).each(function(d) {\n",
       "    return update(d3.select(this), d, 'th').text(function(v) {\n",
       "      return v;\n",
       "    });\n",
       "  });\n",
       "\n",
       "  update(table, data['data'], 'tr', ['value']).each(function(row) {\n",
       "    return update(d3.select(this), row, 'td').text(function(v) {\n",
       "      return JSON.stringify(v);\n",
       "    });\n",
       "  });\n",
       "\n",
       "}).call(this);\n"
      ],
      "text/plain": [
       "<IPython.core.display.Javascript object>"
      ]
     },
     "metadata": {},
     "output_type": "display_data"
    },
    {
     "data": {
      "application/javascript": [
       "// Generated by CoffeeScript 1.10.0\n",
       "(function() {\n",
       "  var data, table;\n",
       "\n",
       "  data = {\n",
       "    \"columns\": [\"sepal_length\", \"sepal_width\", \"petal_length\", \"petal_width\", \"species\"],\n",
       "    \"index\": [39, 40, 41, 42, 43, 44, 45, 46, 47, 48],\n",
       "    \"data\": [[5.1, 3.4, 1.5, 0.2, \"setosa\"], [5.0, 3.5, 1.3, 0.3, \"setosa\"], [4.5, 2.3, 1.3, 0.3, \"setosa\"], [4.4, 3.2, 1.3, 0.2, \"setosa\"], [5.0, 3.5, 1.6, 0.6, \"setosa\"], [5.1, 3.8, 1.9, 0.4, \"setosa\"], [4.8, 3.0, 1.4, 0.3, \"setosa\"], [5.1, 3.8, 1.6, 0.2, \"setosa\"], [4.6, 3.2, 1.4, 0.2, \"setosa\"], [5.3, 3.7, 1.5, 0.2, \"setosa\"]]\n",
       "  };\n",
       "\n",
       "  table = d3.select('#catalog');\n",
       "\n",
       "  update(table, [data['columns']], 'tr', ['header']).each(function(d) {\n",
       "    return update(d3.select(this), d, 'th').text(function(v) {\n",
       "      return v;\n",
       "    });\n",
       "  });\n",
       "\n",
       "  update(table, data['data'], 'tr', ['value']).each(function(row) {\n",
       "    return update(d3.select(this), row, 'td').text(function(v) {\n",
       "      return JSON.stringify(v);\n",
       "    });\n",
       "  });\n",
       "\n",
       "}).call(this);\n"
      ],
      "text/plain": [
       "<IPython.core.display.Javascript object>"
      ]
     },
     "metadata": {},
     "output_type": "display_data"
    },
    {
     "data": {
      "application/javascript": [
       "// Generated by CoffeeScript 1.10.0\n",
       "(function() {\n",
       "  var data, table;\n",
       "\n",
       "  data = {\n",
       "    \"columns\": [\"sepal_length\", \"sepal_width\", \"petal_length\", \"petal_width\", \"species\"],\n",
       "    \"index\": [41, 42, 43, 44, 45, 46, 47, 48, 49, 50],\n",
       "    \"data\": [[4.5, 2.3, 1.3, 0.3, \"setosa\"], [4.4, 3.2, 1.3, 0.2, \"setosa\"], [5.0, 3.5, 1.6, 0.6, \"setosa\"], [5.1, 3.8, 1.9, 0.4, \"setosa\"], [4.8, 3.0, 1.4, 0.3, \"setosa\"], [5.1, 3.8, 1.6, 0.2, \"setosa\"], [4.6, 3.2, 1.4, 0.2, \"setosa\"], [5.3, 3.7, 1.5, 0.2, \"setosa\"], [5.0, 3.3, 1.4, 0.2, \"setosa\"], [7.0, 3.2, 4.7, 1.4, \"versicolor\"]]\n",
       "  };\n",
       "\n",
       "  table = d3.select('#catalog');\n",
       "\n",
       "  update(table, [data['columns']], 'tr', ['header']).each(function(d) {\n",
       "    return update(d3.select(this), d, 'th').text(function(v) {\n",
       "      return v;\n",
       "    });\n",
       "  });\n",
       "\n",
       "  update(table, data['data'], 'tr', ['value']).each(function(row) {\n",
       "    return update(d3.select(this), row, 'td').text(function(v) {\n",
       "      return JSON.stringify(v);\n",
       "    });\n",
       "  });\n",
       "\n",
       "}).call(this);\n"
      ],
      "text/plain": [
       "<IPython.core.display.Javascript object>"
      ]
     },
     "metadata": {},
     "output_type": "display_data"
    },
    {
     "data": {
      "application/javascript": [
       "// Generated by CoffeeScript 1.10.0\n",
       "(function() {\n",
       "  var data, table;\n",
       "\n",
       "  data = {\n",
       "    \"columns\": [\"sepal_length\", \"sepal_width\", \"petal_length\", \"petal_width\", \"species\"],\n",
       "    \"index\": [44, 45, 46, 47, 48, 49, 50, 51, 52, 53],\n",
       "    \"data\": [[5.1, 3.8, 1.9, 0.4, \"setosa\"], [4.8, 3.0, 1.4, 0.3, \"setosa\"], [5.1, 3.8, 1.6, 0.2, \"setosa\"], [4.6, 3.2, 1.4, 0.2, \"setosa\"], [5.3, 3.7, 1.5, 0.2, \"setosa\"], [5.0, 3.3, 1.4, 0.2, \"setosa\"], [7.0, 3.2, 4.7, 1.4, \"versicolor\"], [6.4, 3.2, 4.5, 1.5, \"versicolor\"], [6.9, 3.1, 4.9, 1.5, \"versicolor\"], [5.5, 2.3, 4.0, 1.3, \"versicolor\"]]\n",
       "  };\n",
       "\n",
       "  table = d3.select('#catalog');\n",
       "\n",
       "  update(table, [data['columns']], 'tr', ['header']).each(function(d) {\n",
       "    return update(d3.select(this), d, 'th').text(function(v) {\n",
       "      return v;\n",
       "    });\n",
       "  });\n",
       "\n",
       "  update(table, data['data'], 'tr', ['value']).each(function(row) {\n",
       "    return update(d3.select(this), row, 'td').text(function(v) {\n",
       "      return JSON.stringify(v);\n",
       "    });\n",
       "  });\n",
       "\n",
       "}).call(this);\n"
      ],
      "text/plain": [
       "<IPython.core.display.Javascript object>"
      ]
     },
     "metadata": {},
     "output_type": "display_data"
    },
    {
     "data": {
      "application/javascript": [
       "// Generated by CoffeeScript 1.10.0\n",
       "(function() {\n",
       "  var data, table;\n",
       "\n",
       "  data = {\n",
       "    \"columns\": [\"sepal_length\", \"sepal_width\", \"petal_length\", \"petal_width\", \"species\"],\n",
       "    \"index\": [56, 57, 58, 59, 60, 61, 62, 63, 64, 65],\n",
       "    \"data\": [[6.3, 3.3, 4.7, 1.6, \"versicolor\"], [4.9, 2.4, 3.3, 1.0, \"versicolor\"], [6.6, 2.9, 4.6, 1.3, \"versicolor\"], [5.2, 2.7, 3.9, 1.4, \"versicolor\"], [5.0, 2.0, 3.5, 1.0, \"versicolor\"], [5.9, 3.0, 4.2, 1.5, \"versicolor\"], [6.0, 2.2, 4.0, 1.0, \"versicolor\"], [6.1, 2.9, 4.7, 1.4, \"versicolor\"], [5.6, 2.9, 3.6, 1.3, \"versicolor\"], [6.7, 3.1, 4.4, 1.4, \"versicolor\"]]\n",
       "  };\n",
       "\n",
       "  table = d3.select('#catalog');\n",
       "\n",
       "  update(table, [data['columns']], 'tr', ['header']).each(function(d) {\n",
       "    return update(d3.select(this), d, 'th').text(function(v) {\n",
       "      return v;\n",
       "    });\n",
       "  });\n",
       "\n",
       "  update(table, data['data'], 'tr', ['value']).each(function(row) {\n",
       "    return update(d3.select(this), row, 'td').text(function(v) {\n",
       "      return JSON.stringify(v);\n",
       "    });\n",
       "  });\n",
       "\n",
       "}).call(this);\n"
      ],
      "text/plain": [
       "<IPython.core.display.Javascript object>"
      ]
     },
     "metadata": {},
     "output_type": "display_data"
    },
    {
     "data": {
      "application/javascript": [
       "// Generated by CoffeeScript 1.10.0\n",
       "(function() {\n",
       "  var data, table;\n",
       "\n",
       "  data = {\n",
       "    \"columns\": [\"sepal_length\", \"sepal_width\", \"petal_length\", \"petal_width\", \"species\"],\n",
       "    \"index\": [86, 87, 88, 89, 90, 91, 92, 93, 94, 95],\n",
       "    \"data\": [[6.7, 3.1, 4.7, 1.5, \"versicolor\"], [6.3, 2.3, 4.4, 1.3, \"versicolor\"], [5.6, 3.0, 4.1, 1.3, \"versicolor\"], [5.5, 2.5, 4.0, 1.3, \"versicolor\"], [5.5, 2.6, 4.4, 1.2, \"versicolor\"], [6.1, 3.0, 4.6, 1.4, \"versicolor\"], [5.8, 2.6, 4.0, 1.2, \"versicolor\"], [5.0, 2.3, 3.3, 1.0, \"versicolor\"], [5.6, 2.7, 4.2, 1.3, \"versicolor\"], [5.7, 3.0, 4.2, 1.2, \"versicolor\"]]\n",
       "  };\n",
       "\n",
       "  table = d3.select('#catalog');\n",
       "\n",
       "  update(table, [data['columns']], 'tr', ['header']).each(function(d) {\n",
       "    return update(d3.select(this), d, 'th').text(function(v) {\n",
       "      return v;\n",
       "    });\n",
       "  });\n",
       "\n",
       "  update(table, data['data'], 'tr', ['value']).each(function(row) {\n",
       "    return update(d3.select(this), row, 'td').text(function(v) {\n",
       "      return JSON.stringify(v);\n",
       "    });\n",
       "  });\n",
       "\n",
       "}).call(this);\n"
      ],
      "text/plain": [
       "<IPython.core.display.Javascript object>"
      ]
     },
     "metadata": {},
     "output_type": "display_data"
    },
    {
     "data": {
      "application/javascript": [
       "// Generated by CoffeeScript 1.10.0\n",
       "(function() {\n",
       "  var data, table;\n",
       "\n",
       "  data = {\n",
       "    \"columns\": [\"sepal_length\", \"sepal_width\", \"petal_length\", \"petal_width\", \"species\"],\n",
       "    \"index\": [87, 88, 89, 90, 91, 92, 93, 94, 95, 96],\n",
       "    \"data\": [[6.3, 2.3, 4.4, 1.3, \"versicolor\"], [5.6, 3.0, 4.1, 1.3, \"versicolor\"], [5.5, 2.5, 4.0, 1.3, \"versicolor\"], [5.5, 2.6, 4.4, 1.2, \"versicolor\"], [6.1, 3.0, 4.6, 1.4, \"versicolor\"], [5.8, 2.6, 4.0, 1.2, \"versicolor\"], [5.0, 2.3, 3.3, 1.0, \"versicolor\"], [5.6, 2.7, 4.2, 1.3, \"versicolor\"], [5.7, 3.0, 4.2, 1.2, \"versicolor\"], [5.7, 2.9, 4.2, 1.3, \"versicolor\"]]\n",
       "  };\n",
       "\n",
       "  table = d3.select('#catalog');\n",
       "\n",
       "  update(table, [data['columns']], 'tr', ['header']).each(function(d) {\n",
       "    return update(d3.select(this), d, 'th').text(function(v) {\n",
       "      return v;\n",
       "    });\n",
       "  });\n",
       "\n",
       "  update(table, data['data'], 'tr', ['value']).each(function(row) {\n",
       "    return update(d3.select(this), row, 'td').text(function(v) {\n",
       "      return JSON.stringify(v);\n",
       "    });\n",
       "  });\n",
       "\n",
       "}).call(this);\n"
      ],
      "text/plain": [
       "<IPython.core.display.Javascript object>"
      ]
     },
     "metadata": {},
     "output_type": "display_data"
    }
   ],
   "source": [
    "v.table()"
   ]
  },
  {
   "cell_type": "code",
   "execution_count": null,
   "metadata": {
    "collapsed": true
   },
   "outputs": [],
   "source": []
  },
  {
   "cell_type": "code",
   "execution_count": null,
   "metadata": {
    "collapsed": true
   },
   "outputs": [],
   "source": []
  }
 ],
 "metadata": {
  "kernelspec": {
   "display_name": "Python 3",
   "language": "python",
   "name": "python3"
  },
  "language_info": {
   "codemirror_mode": {
    "name": "ipython",
    "version": 3
   },
   "file_extension": ".py",
   "mimetype": "text/x-python",
   "name": "python",
   "nbconvert_exporter": "python",
   "pygments_lexer": "ipython3",
   "version": "3.4.4"
  }
 },
 "nbformat": 4,
 "nbformat_minor": 0
}
