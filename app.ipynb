{
 "cells": [
  {
   "cell_type": "markdown",
   "metadata": {},
   "source": [
    "# `app.ipynb`\n",
    "\n",
    "* Creates a class that can make API requests and store them for later use.\n",
    "* Does not provide user interface elements, except persistant class variables (index, columns) are stored as widgets.  Widgets provides both a programmatic and non-programmatic interface to explore data."
   ]
  },
  {
   "cell_type": "code",
   "execution_count": 1,
   "metadata": {
    "collapsed": false
   },
   "outputs": [
    {
     "name": "stderr",
     "output_type": "stream",
     "text": [
      "/Users/tfast/anaconda/lib/python3.4/site-packages/IPython/kernel/__init__.py:13: ShimWarning: The `IPython.kernel` package has been deprecated. You should import from ipykernel or jupyter_client instead.\n",
      "  \"You should import from ipykernel or jupyter_client instead.\", ShimWarning)\n"
     ]
    }
   ],
   "source": [
    "import traitlets, requests, ipywidgets, pandas, IPython, odo, multipledispatch, blaze, logging, http, sys, json\n",
    "%reload_ext autoreload\n",
    "%autoreload 2"
   ]
  },
  {
   "cell_type": "code",
   "execution_count": 64,
   "metadata": {
    "collapsed": false
   },
   "outputs": [],
   "source": [
    "@odo.resource.register( 'gh://.*' )\n",
    "def github__shorthand_resource( path, *args, **kwargs ):\n",
    "    \"\"\"Get user or repository level information.\"\"\"\n",
    "    __route__ = 'gh://'\n",
    "    user = path.split( __route__ )[1].split('/')\n",
    "    user, repo = user if len(user) == 2 else [user[0],'']\n",
    "    method = 'repos' if repo else 'users'    \n",
    "    return 'https://api.github.com/{method}/{user}/{repo}'.format( method=method, user=user,repo=repo)"
   ]
  },
  {
   "cell_type": "code",
   "execution_count": 3,
   "metadata": {
    "collapsed": false
   },
   "outputs": [],
   "source": [
    "@multipledispatch.dispatch( str, dict, requests.sessions.Session )\n",
    "def github_request( url, params = {}, session = requests.Session() ):\n",
    "    \"\"\"\n",
    "    Make the URL when a url is passed to the function\n",
    "    \n",
    "            req, resp = github_request('tonyfast', {}, requests.Session() )\n",
    "    \"\"\"\n",
    "    if not url.startswith('http'):\n",
    "        url = odo.resource( 'gh://' + url )\n",
    "    request = requests.Request('GET', url=url, params=params.copy(), headers={'User-Agent': 'tonyfast'} )\n",
    "    request.params =  request.params \n",
    "    return request, session.send( request.prepare() )\n",
    "\n",
    "@multipledispatch.dispatch( requests.models.Request, requests.models.Response )\n",
    "def github_request( requests, response ):\n",
    "    del requests.params['access_token']\n",
    "    return requests.prepare(), response.json()"
   ]
  },
  {
   "cell_type": "code",
   "execution_count": 46,
   "metadata": {
    "collapsed": false
   },
   "outputs": [],
   "source": [
    "class Projects( traitlets.HasTraits ):\n",
    "    current = traitlets.List([])\n",
    "    access_token = ipywidgets.Text('asdfasdf', description='Github Access Token')\n",
    "    username = ipywidgets.Text('tonyfast', description='Github Username')\n",
    "    df = pandas.DataFrame()\n",
    "    session = requests.Session()  # Eventually get information from the logger\n",
    "    catalog = {}   # An object of native python classes to manipulate the Projects\n",
    "    \n",
    "    def __init__( self, projects = [], *args, **kwargs ):\n",
    "        for project in projects:\n",
    "            self.add_project( project )\n",
    "        \n",
    "    @traitlets.observe('current')\n",
    "    def _update_projects(self, change, *args, **kwargs):\n",
    "        for project in change['new']:            \n",
    "            if not project in change['old']:\n",
    "                self._make_request( project, alias=project )\n",
    "\n",
    "    def _make_request( self, project_or_url, params = {}, alias=None ):  \n",
    "        params['access_token'] = self.access_token.value\n",
    "        recorded = self._record( *github_request( project_or_url, params, self.session ) )\n",
    "        if alias:\n",
    "            if isinstance( alias, str ):\n",
    "                self.catalog[alias] = recorded\n",
    "        \n",
    "    def _record( self, request, response ):\n",
    "        del request.params['access_token']\n",
    "        url = request.prepare().url\n",
    "        if isinstance( url, str ):\n",
    "            self.catalog[url] = {\n",
    "                'response': response,\n",
    "                'time': str(pandas.datetime.now()),\n",
    "                'params': request.params.copy(),\n",
    "                'request': request,\n",
    "                'url': url\n",
    "            } \n",
    "            obj = self.catalog[url]['response'].json()\n",
    "            self._update_dataframe( obj )\n",
    "            return self.catalog[url] \n",
    "\n",
    "    def _update_dataframe( self, obj ):\n",
    "        if isinstance( obj, list ):\n",
    "            self.df = self.df.append( obj )\n",
    "            \n",
    "    def _paginate( self, project_or_url, params ):\n",
    "        params['page'] = 0\n",
    "        for k,v in self.catalog.items(): \n",
    "            if k.startswith(project_or_url) and isinstance( v['response'].json(), list ):\n",
    "                params['page'] = max( params['page'], v['params']['page'])\n",
    "        params['page'] += 1\n",
    "        return params\n",
    "                                \n",
    "    def more( self, project_or_url, params = {} ):\n",
    "        params = self._paginate( project_or_url, params )\n",
    "        self._make_request( project_or_url, params, self.session )\n",
    "        self.urls.value = '\\n'.join(self.catalog.keys())\n",
    "        \n",
    "    def add_project( self, project ):\n",
    "        tmp = self.current.copy()\n",
    "        tmp.append(project)\n",
    "        self.current = tmp"
   ]
  },
  {
   "cell_type": "code",
   "execution_count": 47,
   "metadata": {
    "collapsed": false
   },
   "outputs": [],
   "source": [
    "projects = Projects(['bokeh/bokeh','jupyter/jupyter'])"
   ]
  },
  {
   "cell_type": "code",
   "execution_count": 48,
   "metadata": {
    "collapsed": false
   },
   "outputs": [
    {
     "name": "stderr",
     "output_type": "stream",
     "text": [
      "/Users/tfast/anaconda/lib/python3.4/site-packages/pandas/core/indexing.py:1227: FutureWarning: slice indexers when using iloc should be integers and not floating point\n",
      "  return self._getitem_axis(key, axis=0)\n"
     ]
    },
    {
     "data": {
      "application/javascript": [
       "// Generated by CoffeeScript 1.10.0\n",
       "debugger;\n",
       "var data, header, table, value;\n",
       "\n",
       "data = {\n",
       "  \"columns\": [\"body\"],\n",
       "  \"index\": [0, 1, 2, 3, 4, 5, 6, 7, 8, 9],\n",
       "  \"data\": [[\"pytest-xdist allows us to run tests in parallel, we should be able to use it to speed up the examples tests.\"], [\"issues: fixes #3795 \\r\\n\\r\\n(WIP: there are a few other issues related to webgl that I mean to look into)\"], [\"Please don't merge yet, still a few things to sort out:\\r\\n\\r\\n- [x] Get the HBox and VBox View classes built and rendering with phosphor BoxPanels.\\r\\n- [x] Remove the additional divs from the hierarchy that Backbone.js introduces.\\r\\n- [ ] In the HBox-inside-VBox demo, the Hbox isn't getting the mutation callback, so we're using a timeout.\\r\\n- [ ] Build the phosphor Widgets on the plotwidget\\/continuumview classes, instead of the box views.\\r\\n- [ ] Default initial sizes - ideally take some params passed in from python - currently a few hard-coded minHeight\\/widths.\\r\\n- [ ] Remove the hard-coded phosphor bundle location in the js template.\\r\\n- [ ] Completely untested for other layouts - needs comprehensive validation.\\r\\n\"], [\"I would like to discuss two related ideas:\\r\\n\\r\\n1) Remove the need to require specifying an `output_file()`. Having to choose a name (and path) for an html file sits in the way of doing quick interactive plotting IMO. It feels like something of an export mechanism. \\r\\n\\r\\n1a) One simple solution is to automatically create an html file in a temp folder. We'd have to do a bit of management to clean up old html docs. \\r\\n\\r\\n1b) Alternatively, we could make the Python process serve the html file. This would require substantially more changes and design. This would lean towards making apps, not sure if this is an approach we want to support?.\\r\\n\\r\\n2) The second proposal is to show the generated web page in a \\\"native\\\" window instead of adding a tab to a browser. I think this would give Bokeh a more interactive\\/native feel, similar to MPL. Of course, the \\\"native\\\" window would really be a web-browser in disguise, like [XUL](https:\\/\\/en.wikipedia.org\\/wiki\\/XUL) or [nwjs](http:\\/\\/nwjs.io\\/) or [Electron](http:\\/\\/electron.atom.io\\/). Flexx already has functionality to do this based on XUL (which is available anywhere where Firefox is installed), and Chrome. A similar approach should be possible based on Internet Explorer.\"], [\"From source:\\r\\n\\r\\n```python\\r\\nheight = Either(Int(400), Auto, help=\\\"\\\"\\\"\\r\\n    Height in pixels of the table widget. Use ``Auto`` to make the widget\\r\\n    adjust its height automatically. Note that ``Auto`` is inefficient for\\r\\n    large amounts of data, so should be used with care.\\r\\n    \\\"\\\"\\\")\\r\\n```\\r\\n\\r\\nHowever doing the following raises a ValueError:\\r\\n\\r\\n```python\\r\\nfrom bokeh.models import Auto\\r\\nfrom bokeh.models.widgets import DataTable\\r\\n\\r\\nDataTable(height=Auto)\\r\\n>> ValueError: expected an element of either Int or Auto, got <class 'bokeh.core.properties.Auto'>\\r\\n\\r\\nDataTable(height=Auto())\\r\\nValueError: expected an element of either Int or Auto, got <bokeh.core.properties.Auto object at 0x10ba9bef0>\\r\\n\\r\\n```\"], [\"This is temporarily using git:\\/\\/github.com\\/dennisobrien\\/numbro.git#916d3398 for the source of numbro.js.  Assuming bokeh\\/numbro PR3 (https:\\/\\/github.com\\/bokeh\\/numbro\\/pull\\/3) is fine, once that is merged, I can change the reference to numbro in package.json to point to bokeh\\/numbro.\\r\\n\\r\\nThis is another attempt to get this change into the release. The previous attempts in 0.10 failed due to some CI errors that I never resolved.\\r\\n\\r\\nFor reference: #3153\"], [\"This is a short example which parses a kml file of world countries into a `GeoJSONDataSource`. \\r\\n\\r\\nNote:\\r\\n- There are dependencies on `fastkml (pip install fastkml)` and `geojson (pip install geojson)`\\r\\n- To get source data you will need to:\\r\\n```python\\r\\nimport bokeh.sampledata\\r\\nbokeh.sampledata.download()\\r\\n```\\r\\n\\r\\n<img width=\\\"912\\\" alt=\\\"screen shot 2016-02-15 at 9 14 11 pm\\\" src=\\\"https:\\/\\/cloud.githubusercontent.com\\/assets\\/433221\\/13066319\\/623526f2-d42a-11e5-9ccb-7fb77798bb4b.png\\\">\\r\\n\\r\\n\"], [\"\"], [\"Is there a way in Bokeh to have the legend in a multi row column format like it is done in matplotlib. \\r\\n\\r\\nIn matpltolib the legend object takes as input 2 additional optinal agruments ncol and nrow which defines how many rows and column the legend object should be split in. \\r\\n\\r\\nThis is very useful when we have lots of legend items and its better to organize then into rows and columns. \\r\\n\\r\\nCan similar api be made available in bokeh.\"], [\"issues: closes #3675, continues #3121\\r\\n\\r\\nWait with merging this until we've got a new Flexx release and corresponding conda package.\"]]\n",
       "};\n",
       "\n",
       "table = d3.select('#catalog');\n",
       "\n",
       "header = table.selectAll('tr.header').data(['', data['columns']]);\n",
       "\n",
       "header.enter().append('tr').classed('header', true);\n",
       "\n",
       "header.each(function(d) {\n",
       "  var cells;\n",
       "  cells = d3.select(this).selectAll('th').data(d);\n",
       "  cells.enter().append('th');\n",
       "  cells.text(function(d) {\n",
       "    return d;\n",
       "  });\n",
       "  return cells.exit().remove();\n",
       "});\n",
       "\n",
       "header.exit().remove();\n",
       "\n",
       "value = table.selectAll('tr.value').data(data['data']);\n",
       "\n",
       "value.enter().append('tr').classed('value', true);\n",
       "\n",
       "value.each(function(row) {\n",
       "  var cells;\n",
       "  cells = d3.select(this).selectAll('td').data(row);\n",
       "  cells.enter().append('td');\n",
       "  cells.text(function(v) {\n",
       "    return JSON.stringify(v);\n",
       "  });\n",
       "  return cells.exit().remove();\n",
       "});\n",
       "\n",
       "value.exit().remove();\n"
      ],
      "text/plain": [
       "<IPython.core.display.Javascript object>"
      ]
     },
     "metadata": {},
     "output_type": "display_data"
    }
   ],
   "source": [
    "projects.more(projects.catalog['bokeh/bokeh']['response'].json()['issues_url'].split('{')[0])\n",
    "projects.more(projects.catalog['bokeh/bokeh']['response'].json()['issues_url'].split('{')[0])"
   ]
  }
 ],
 "metadata": {
  "kernelspec": {
   "display_name": "Python 3",
   "language": "python",
   "name": "python3"
  },
  "language_info": {
   "codemirror_mode": {
    "name": "ipython",
    "version": 3
   },
   "file_extension": ".py",
   "mimetype": "text/x-python",
   "name": "python",
   "nbconvert_exporter": "python",
   "pygments_lexer": "ipython3",
   "version": "3.4.4"
  }
 },
 "nbformat": 4,
 "nbformat_minor": 0
}
