{
 "cells": [
  {
   "cell_type": "markdown",
   "metadata": {},
   "source": [
    "# `app.ipynb`\n",
    "\n",
    "* Creates a class that can make API requests and store them for later use.\n",
    "* Does not provide user interface elements, except persistant class variables (index, columns) are stored as widgets.  Widgets provides both a programmatic and non-programmatic interface to explore data."
   ]
  },
  {
   "cell_type": "code",
   "execution_count": 66,
   "metadata": {
    "collapsed": false
   },
   "outputs": [],
   "source": [
    "import traitlets, requests, ipywidgets, pandas, IPython, odo, multipledispatch, blaze, logging, http, sys, json\n",
    "get_ipython = ipywidgets.get_ipython\n",
    "%reload_ext autoreload\n",
    "%autoreload 2"
   ]
  },
  {
   "cell_type": "code",
   "execution_count": 64,
   "metadata": {
    "collapsed": false
   },
   "outputs": [],
   "source": [
    "@odo.resource.register( 'gh://.*' )\n",
    "def github__shorthand_resource( path, *args, **kwargs ):\n",
    "    \"\"\"Get user or repository level information.\"\"\"\n",
    "    __route__ = 'gh://'\n",
    "    user = path.split( __route__ )[1].split('/')\n",
    "    user, repo = user if len(user) == 2 else [user[0],'']\n",
    "    method = 'repos' if repo else 'users'    \n",
    "    return 'https://api.github.com/{method}/{user}/{repo}'.format( method=method, user=user,repo=repo)"
   ]
  },
  {
   "cell_type": "code",
   "execution_count": 3,
   "metadata": {
    "collapsed": false
   },
   "outputs": [],
   "source": [
    "@multipledispatch.dispatch( str, dict, requests.sessions.Session )\n",
    "def github_request( url, params = {}, session = requests.Session() ):\n",
    "    \"\"\"\n",
    "    Make the URL when a url is passed to the function\n",
    "    \n",
    "            req, resp = github_request('tonyfast', {}, requests.Session() )\n",
    "    \"\"\"\n",
    "    if not url.startswith('http'):\n",
    "        url = odo.resource( 'gh://' + url )\n",
    "    request = requests.Request('GET', url=url, params=params.copy(), headers={'User-Agent': 'tonyfast'} )\n",
    "    request.params =  request.params \n",
    "    return request, session.send( request.prepare() )\n",
    "\n",
    "@multipledispatch.dispatch( requests.models.Request, requests.models.Response )\n",
    "def github_request( requests, response ):\n",
    "    del requests.params['access_token']\n",
    "    return requests.prepare(), response.json()"
   ]
  },
  {
   "cell_type": "code",
   "execution_count": 1,
   "metadata": {
    "collapsed": false
   },
   "outputs": [
    {
     "ename": "NameError",
     "evalue": "name 'traitlets' is not defined",
     "output_type": "error",
     "traceback": [
      "\u001b[0;31m---------------------------------------------------------------------------\u001b[0m",
      "\u001b[0;31mNameError\u001b[0m                                 Traceback (most recent call last)",
      "\u001b[0;32m<ipython-input-1-36752372d82b>\u001b[0m in \u001b[0;36m<module>\u001b[0;34m()\u001b[0m\n\u001b[0;32m----> 1\u001b[0;31m \u001b[0;32mclass\u001b[0m \u001b[0mProjects\u001b[0m\u001b[0;34m(\u001b[0m \u001b[0mtraitlets\u001b[0m\u001b[0;34m.\u001b[0m\u001b[0mHasTraits\u001b[0m \u001b[0;34m)\u001b[0m\u001b[0;34m:\u001b[0m\u001b[0;34m\u001b[0m\u001b[0m\n\u001b[0m\u001b[1;32m      2\u001b[0m     \u001b[0mcurrent\u001b[0m \u001b[0;34m=\u001b[0m \u001b[0mtraitlets\u001b[0m\u001b[0;34m.\u001b[0m\u001b[0mList\u001b[0m\u001b[0;34m(\u001b[0m\u001b[0;34m[\u001b[0m\u001b[0;34m]\u001b[0m\u001b[0;34m)\u001b[0m\u001b[0;34m\u001b[0m\u001b[0m\n\u001b[1;32m      3\u001b[0m     \u001b[0maccess_token\u001b[0m \u001b[0;34m=\u001b[0m \u001b[0mipywidgets\u001b[0m\u001b[0;34m.\u001b[0m\u001b[0mText\u001b[0m\u001b[0;34m(\u001b[0m\u001b[0;34m'asdfasdf'\u001b[0m\u001b[0;34m,\u001b[0m \u001b[0mdescription\u001b[0m\u001b[0;34m=\u001b[0m\u001b[0;34m'Github Access Token'\u001b[0m\u001b[0;34m)\u001b[0m\u001b[0;34m\u001b[0m\u001b[0m\n\u001b[1;32m      4\u001b[0m     \u001b[0musername\u001b[0m \u001b[0;34m=\u001b[0m \u001b[0mipywidgets\u001b[0m\u001b[0;34m.\u001b[0m\u001b[0mText\u001b[0m\u001b[0;34m(\u001b[0m\u001b[0;34m'tonyfast'\u001b[0m\u001b[0;34m,\u001b[0m \u001b[0mdescription\u001b[0m\u001b[0;34m=\u001b[0m\u001b[0;34m'Github Username'\u001b[0m\u001b[0;34m)\u001b[0m\u001b[0;34m\u001b[0m\u001b[0m\n\u001b[1;32m      5\u001b[0m     \u001b[0mdf\u001b[0m \u001b[0;34m=\u001b[0m \u001b[0mpandas\u001b[0m\u001b[0;34m.\u001b[0m\u001b[0mDataFrame\u001b[0m\u001b[0;34m(\u001b[0m\u001b[0;34m)\u001b[0m\u001b[0;34m\u001b[0m\u001b[0m\n",
      "\u001b[0;31mNameError\u001b[0m: name 'traitlets' is not defined"
     ]
    }
   ],
   "source": [
    "class Projects( traitlets.HasTraits ):\n",
    "    current = traitlets.List([])\n",
    "    access_token = ipywidgets.Text('asdfasdf', description='Github Access Token')\n",
    "    username = ipywidgets.Text('tonyfast', description='Github Username')\n",
    "    df = pandas.DataFrame()\n",
    "    session = requests.Session()  # Eventually get information from the logger\n",
    "    catalog = {}   # An object of native python classes to manipulate the Projects\n",
    "    \n",
    "    def __init__( self, projects = [], *args, **kwargs ):\n",
    "        for project in projects:\n",
    "            self.add_project( project )\n",
    "        \n",
    "    @traitlets.observe('current')\n",
    "    def _update_projects(self, change, *args, **kwargs):\n",
    "        for project in change['new']:            \n",
    "            if not project in change['old']:\n",
    "                self._make_request( project, alias=project )\n",
    "\n",
    "    def _make_request( self, project_or_url, params = {}, alias=None ):  \n",
    "        params['access_token'] = self.access_token.value\n",
    "        recorded = self._record( *github_request( project_or_url, params, self.session ) )\n",
    "        if alias:\n",
    "            if isinstance( alias, str ):\n",
    "                self.catalog[alias] = recorded\n",
    "        \n",
    "    def _record( self, request, response ):\n",
    "        del request.params['access_token']\n",
    "        url = request.prepare().url\n",
    "        if isinstance( url, str ):\n",
    "            self.catalog[url] = {\n",
    "                'response': response,\n",
    "                'time': str(pandas.datetime.now()),\n",
    "                'params': request.params.copy(),\n",
    "                'request': request,\n",
    "                'url': url\n",
    "            } \n",
    "            obj = self.catalog[url]['response'].json()\n",
    "            self._update_dataframe( obj )\n",
    "            return self.catalog[url] \n",
    "\n",
    "    def _update_dataframe( self, obj ):\n",
    "        if isinstance( obj, list ):\n",
    "            self.df = self.df.append( obj )\n",
    "            \n",
    "    def _paginate( self, project_or_url, params ):\n",
    "        params['page'] = 0\n",
    "        for k,v in self.catalog.items(): \n",
    "            if k.startswith(project_or_url) and isinstance( v['response'].json(), list ):\n",
    "                if 'page' in v['params']:\n",
    "                    params['page'] = max( params['page'], v['params']['page'])\n",
    "        params['page'] += 1\n",
    "        return params\n",
    "                                \n",
    "    def more( self, project_or_url, params = {} ):\n",
    "        params = self._paginate( project_or_url, params )\n",
    "        self._make_request( project_or_url, params, self.session )\n",
    "        \n",
    "    def add_project( self, project ):\n",
    "        tmp = self.current.copy()\n",
    "        tmp.append(project)\n",
    "        self.current = tmp"
   ]
  },
  {
   "cell_type": "code",
   "execution_count": 47,
   "metadata": {
    "collapsed": false
   },
   "outputs": [],
   "source": [
    "#projects = Projects(['bokeh/bokeh','jupyter/jupyter'])"
   ]
  },
  {
   "cell_type": "code",
   "execution_count": 65,
   "metadata": {
    "collapsed": false
   },
   "outputs": [],
   "source": [
    "#projects.more(projects.catalog['bokeh/bokeh']['response'].json()['issues_url'].split('{')[0])\n",
    "#projects.more(projects.catalog['bokeh/bokeh']['response'].json()['issues_url'].split('{')[0])"
   ]
  },
  {
   "cell_type": "code",
   "execution_count": null,
   "metadata": {
    "collapsed": true
   },
   "outputs": [],
   "source": []
  }
 ],
 "metadata": {
  "kernelspec": {
   "display_name": "Python 3",
   "language": "python",
   "name": "python3"
  },
  "language_info": {
   "codemirror_mode": {
    "name": "ipython",
    "version": 3
   },
   "file_extension": ".py",
   "mimetype": "text/x-python",
   "name": "python",
   "nbconvert_exporter": "python",
   "pygments_lexer": "ipython3",
   "version": "3.4.4"
  }
 },
 "nbformat": 4,
 "nbformat_minor": 0
}
