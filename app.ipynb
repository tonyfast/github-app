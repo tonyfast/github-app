{
 "cells": [
  {
   "cell_type": "code",
   "execution_count": 1,
   "metadata": {
    "collapsed": false
   },
   "outputs": [],
   "source": [
    "import traitlets, requests, ipywidgets, pandas, jinja2, IPython, odo, multipledispatch, blaze, logging, http, sys\n",
    "from coffeetools import coffee\n",
    "%reload_ext autoreload\n",
    "%autoreload 2\n",
    "get_ipython = ipywidgets.get_ipython"
   ]
  },
  {
   "cell_type": "code",
   "execution_count": 51,
   "metadata": {
    "collapsed": false
   },
   "outputs": [],
   "source": [
    "@odo.resource.register( 'gh://.*' )\n",
    "def github__shorthand_resource( path, *args, **kwargs ):\n",
    "    \"\"\"Get user or repository level information.\"\"\"\n",
    "    __route__ = 'gh://'\n",
    "    user = path.split( __route__ )[1].split('/')\n",
    "    user, repo = user if len(user) == 2 else [user[0],'']\n",
    "    method = 'repos' if repo else 'users'    \n",
    "    return jinja2.Template( 'https://api.github.com/{{method}}/{{user}}/{{repo}}').render(**locals()).rstrip('/')\n",
    "\n",
    "@multipledispatch.dispatch( str, dict, requests.sessions.Session )\n",
    "def github_request( url, params = {}, session = requests.Session() ):\n",
    "    \"\"\"\n",
    "    Make the URL when a url is passed to the function\n",
    "    \n",
    "            req, resp = github_request('tonyfast', {}, requests.Session() )\n",
    "    \"\"\"\n",
    "    if not url.startswith('http'):\n",
    "        url = odo.resource( 'gh://' + url )\n",
    "    request = requests.Request('GET', url=url, params=params.copy(), headers={'User-Agent': 'tonyfast'} )\n",
    "    request.params = append_auth( request.params )\n",
    "    return request, session.send( request.prepare() )\n",
    "\n",
    "@multipledispatch.dispatch( requests.models.Request, requests.models.Response )\n",
    "def github_request( requests, response ):\n",
    "    del requests.params['access_token']\n",
    "    return requests.prepare(), response.json()"
   ]
  },
  {
   "cell_type": "code",
   "execution_count": 53,
   "metadata": {
    "collapsed": false
   },
   "outputs": [],
   "source": [
    "class Projects( traitlets.HasTraits ):\n",
    "    current = traitlets.List([])\n",
    "    access_token = ipywidgets.Text('asdfasdf')\n",
    "    username = ipywidgets.Text('tonyfast')\n",
    "    columns = ipywidgets.SelectMultiple( options=['<Empty>'] )\n",
    "    row = ipywidgets.IntSlider( description='Row Index', min=0, max=0 )\n",
    "    session = requests.Session()\n",
    "    catalog = {}   \n",
    "    \n",
    "    def __init__( self, projects = [], *args, **kwargs ):\n",
    "        self.env = jinja2.Environment( loader = jinja2.FileSystemLoader('_layouts') )\n",
    "        for project in projects:\n",
    "            self.add_project( project )\n",
    "                \n",
    "    @traitlets.observe('current')\n",
    "    def _update_projects(self, change, *args, **kwargs):\n",
    "        for project in change['new']:            \n",
    "            if not project in change['old']:\n",
    "                self._make_request( project, alias=project )\n",
    "\n",
    "    def _make_request( self, project_or_url, params = {}, alias=None ):     \n",
    "        recorded = self._record( *github_request( project_or_url, params, self.session ) )\n",
    "        if alias:\n",
    "            self.catalog[alias] = recorded\n",
    "        \n",
    "    def _record( self, request, response ):\n",
    "        url = request.prepare().url\n",
    "        self.catalog[url] = {\n",
    "            'response': response,\n",
    "            'time': str(pandas.datetime.now()),\n",
    "            'params': request.params.copy(),\n",
    "            'request': request,\n",
    "            'url': url\n",
    "        } \n",
    "        return self.catalog[url] \n",
    "\n",
    "    def more( self, project_or_url ):\n",
    "        params = {}\n",
    "        self._make_request( project_or_url, params, self.session )\n",
    "        \n",
    "    def add_project( self, project ):\n",
    "        tmp = self.current.copy()\n",
    "        tmp.append(project)\n",
    "        self.current = tmp"
   ]
  },
  {
   "cell_type": "code",
   "execution_count": 54,
   "metadata": {
    "collapsed": false
   },
   "outputs": [],
   "source": [
    "projects = Projects(['jupyter/notebook'])"
   ]
  },
  {
   "cell_type": "code",
   "execution_count": 55,
   "metadata": {
    "collapsed": false
   },
   "outputs": [],
   "source": [
    "projects.add_project('bokeh/bokeh')"
   ]
  },
  {
   "cell_type": "code",
   "execution_count": 56,
   "metadata": {
    "collapsed": false
   },
   "outputs": [
    {
     "data": {
      "text/plain": [
       "{'bokeh/bokeh': {'params': {},\n",
       "  'request': <Request [GET]>,\n",
       "  'response': <Response [200]>,\n",
       "  'time': '2016-02-17 11:59:20.075391',\n",
       "  'url': 'https://api.github.com/repos/bokeh/bokeh'},\n",
       " 'https://api.github.com/repos/bokeh/bokeh': {'params': {},\n",
       "  'request': <Request [GET]>,\n",
       "  'response': <Response [200]>,\n",
       "  'time': '2016-02-17 11:59:20.075391',\n",
       "  'url': 'https://api.github.com/repos/bokeh/bokeh'},\n",
       " 'https://api.github.com/repos/jupyter/notebook': {'params': {},\n",
       "  'request': <Request [GET]>,\n",
       "  'response': <Response [200]>,\n",
       "  'time': '2016-02-17 11:59:19.213879',\n",
       "  'url': 'https://api.github.com/repos/jupyter/notebook'},\n",
       " 'jupyter/notebook': {'params': {},\n",
       "  'request': <Request [GET]>,\n",
       "  'response': <Response [200]>,\n",
       "  'time': '2016-02-17 11:59:19.213879',\n",
       "  'url': 'https://api.github.com/repos/jupyter/notebook'}}"
      ]
     },
     "execution_count": 56,
     "metadata": {},
     "output_type": "execute_result"
    }
   ],
   "source": [
    "projects.catalog"
   ]
  },
  {
   "cell_type": "code",
   "execution_count": 50,
   "metadata": {
    "collapsed": false
   },
   "outputs": [
    {
     "name": "stdout",
     "output_type": "stream",
     "text": [
      "Overwriting _layouts/table.html\n"
     ]
    }
   ],
   "source": [
    "%%file _layouts/table.html\n",
    "<table id=\"catalog\" class=\"table\"></table>"
   ]
  },
  {
   "cell_type": "code",
   "execution_count": 51,
   "metadata": {
    "collapsed": false
   },
   "outputs": [
    {
     "name": "stdout",
     "output_type": "stream",
     "text": [
      "Overwriting _layouts/update_table.coffee\n"
     ]
    }
   ],
   "source": [
    "%%file _layouts/update_table.coffee\n",
    "data = {{df}}\n",
    "table = d3.select '#catalog'\n",
    "header = table.selectAll 'tr.header'\n",
    "    .data [ '', data['columns'] ]\n",
    "header.enter().append('tr').classed 'header', true\n",
    "header.each (d)->\n",
    "    cells = d3.select(@).selectAll('th').data d\n",
    "    cells.enter().append 'th'\n",
    "    cells.text (d)-> d\n",
    "    cells.exit().remove()\n",
    "header.exit().remove()\n",
    "value = table.selectAll 'tr.value'\n",
    "    .data data['data']\n",
    "value.enter().append('tr').classed 'value', true\n",
    "value.each (d)->\n",
    "    cells = d3.select @\n",
    "        .selectAll 'td'\n",
    "        .data d\n",
    "    cells.enter().append 'td'\n",
    "    cells.text (d)-> JSON.stringify d\n",
    "    cells.exit().remove()  \n",
    "value.exit().remove()"
   ]
  },
  {
   "cell_type": "code",
   "execution_count": null,
   "metadata": {
    "collapsed": true
   },
   "outputs": [],
   "source": []
  }
 ],
 "metadata": {
  "kernelspec": {
   "display_name": "Python 3",
   "language": "python",
   "name": "python3"
  },
  "language_info": {
   "codemirror_mode": {
    "name": "ipython",
    "version": 3
   },
   "file_extension": ".py",
   "mimetype": "text/x-python",
   "name": "python",
   "nbconvert_exporter": "python",
   "pygments_lexer": "ipython3",
   "version": "3.4.4"
  }
 },
 "nbformat": 4,
 "nbformat_minor": 0
}
